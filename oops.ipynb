{
  "nbformat": 4,
  "nbformat_minor": 0,
  "metadata": {
    "colab": {
      "name": "oops.ipynb",
      "provenance": [],
      "collapsed_sections": [],
      "authorship_tag": "ABX9TyOzvi7vgSa0sG1DuapEJmMr",
      "include_colab_link": true
    },
    "kernelspec": {
      "name": "python3",
      "display_name": "Python 3"
    }
  },
  "cells": [
    {
      "cell_type": "markdown",
      "metadata": {
        "id": "view-in-github",
        "colab_type": "text"
      },
      "source": [
        "<a href=\"https://colab.research.google.com/github/vvthakral/Python-for-AI-Data-Science/blob/master/oops.ipynb\" target=\"_parent\"><img src=\"https://colab.research.google.com/assets/colab-badge.svg\" alt=\"Open In Colab\"/></a>"
      ]
    },
    {
      "cell_type": "markdown",
      "metadata": {
        "id": "Si19AXHbFxJ2",
        "colab_type": "text"
      },
      "source": [
        "<h3><center>Object Oriented Programming in Pyhton!</center></h3>\n",
        "Everything (variable, function e.t.c) created in Python is an object and is an instance of some predefined class, like the below variable x is an object of class int.\n",
        "\n",
        "<p>That being said, we can also create our own classes in python.\n",
        "</p>\n"
      ]
    },
    {
      "cell_type": "code",
      "metadata": {
        "id": "hQsZ2I_EHELA",
        "colab_type": "code",
        "outputId": "ea7ee063-f0eb-46f5-84c1-29a03af5ba3c",
        "colab": {
          "base_uri": "https://localhost:8080/",
          "height": 34
        }
      },
      "source": [
        "x = 27\n",
        "print(type(x))"
      ],
      "execution_count": 0,
      "outputs": [
        {
          "output_type": "stream",
          "text": [
            "<class 'int'>\n"
          ],
          "name": "stdout"
        }
      ]
    },
    {
      "cell_type": "markdown",
      "metadata": {
        "id": "h01BRedcHtMQ",
        "colab_type": "text"
      },
      "source": [
        "<center>\n",
        "Class --> Blueprint\n",
        "\n",
        "Instance --> Individual editable copy of class"
      ]
    },
    {
      "cell_type": "markdown",
      "metadata": {
        "id": "BTA2xV9TI6fr",
        "colab_type": "text"
      },
      "source": [
        "In a class object:\n",
        "\n",
        "Data variables --> Attributes\n",
        "\n",
        "Function --> Methods\n"
      ]
    },
    {
      "cell_type": "markdown",
      "metadata": {
        "id": "PDni9ahLLBIh",
        "colab_type": "text"
      },
      "source": [
        "In the below cell, Student is a class and s1 is the instance of the class.Each instance can have it's own values for variables (instance variables) and can also inherit variables from the parent class.\n",
        "\n",
        "Also each instance is stored separately and is independent from the others so changes in one will not affect another instance."
      ]
    },
    {
      "cell_type": "code",
      "metadata": {
        "id": "q4JKL7edJMde",
        "colab_type": "code",
        "outputId": "5615c7bb-88f6-4ebc-c728-abe2a5b85812",
        "colab": {
          "base_uri": "https://localhost:8080/",
          "height": 50
        }
      },
      "source": [
        "class Student:\n",
        "  pass\n",
        "\n",
        "s1 = Student()\n",
        "s2 = Student()\n",
        "print(s1)\n",
        "print(s2)"
      ],
      "execution_count": 0,
      "outputs": [
        {
          "output_type": "stream",
          "text": [
            "<__main__.Student object at 0x7fa584096320>\n",
            "<__main__.Student object at 0x7fa584096160>\n"
          ],
          "name": "stdout"
        }
      ]
    },
    {
      "cell_type": "markdown",
      "metadata": {
        "id": "FxQbx5DxOsLB",
        "colab_type": "text"
      },
      "source": [
        "All names and numbers are fictious and are used just for the sake of example thus have no relation to the reality."
      ]
    },
    {
      "cell_type": "markdown",
      "metadata": {
        "id": "O-7rHz2PRq30",
        "colab_type": "text"
      },
      "source": [
        "Below is a simple class Student that acts as a blueprint of each studnet's instance that studies at the college.\n",
        "\n",
        "The attributes first, last, gender are instance variables and thus unique to each instance (2 students in this case).\n",
        "\n",
        "All methods in a class have self (for instance) as the first parameter passed to them.\n",
        "\n",
        "on_campus is a class variable and instances inherit it from the class.\n",
        "\n",
        "It is referred by self.var_name to treat it as unique variable within the instance or can be called by class_name.var_name to update it for all instances.\n"
      ]
    },
    {
      "cell_type": "code",
      "metadata": {
        "id": "9PUPPT6LLrR8",
        "colab_type": "code",
        "outputId": "04c339a1-df81-43dc-c494-eabf34ea2d14",
        "colab": {
          "base_uri": "https://localhost:8080/",
          "height": 151
        }
      },
      "source": [
        "class Student:\n",
        "  on_campus= True\n",
        "  def __init__(self, first, last, gender):\n",
        "    self.first = first\n",
        "    self.last = last\n",
        "    self.gender = gender\n",
        "    self.email = first + last + '@college.edu'\n",
        "\n",
        "  def full_name(self):\n",
        "    return '{} {}'.format(self.first,self.last)\n",
        "  \n",
        "  def update_on_campus(self, choice):\n",
        "    self.on_campus = choice\n",
        "\n",
        "s1 = Student('amrit', 'chaudhary', 'male')\n",
        "s2 = Student('darshan', 'roy', 'male')\n",
        "\n",
        "print(s2.full_name())"
      ],
      "execution_count": 0,
      "outputs": [
        {
          "output_type": "stream",
          "text": [
            "darshan roy\n",
            "\n",
            "Before update\n",
            "darshan roy stays on campus?: True\n",
            "\n",
            "After update\n",
            "darshan roy stays on campus?: False\n",
            "amrit chaudhary stays on campus?: True\n"
          ],
          "name": "stdout"
        }
      ]
    },
    {
      "cell_type": "markdown",
      "metadata": {
        "id": "8aTeCC6ZS5cW",
        "colab_type": "text"
      },
      "source": [
        "A change in class variable copy for s2 (referenced using self) does not result in change for the same variable in s1"
      ]
    },
    {
      "cell_type": "code",
      "metadata": {
        "id": "UblgVbxRTDaw",
        "colab_type": "code",
        "outputId": "ea8a84dd-9553-447d-b2e0-a6dfb0e2810c",
        "colab": {
          "base_uri": "https://localhost:8080/",
          "height": 134
        }
      },
      "source": [
        "print('\\nBefore update')\n",
        "print('{} stays on campus?: {}'.format(s2.full_name(),s2.on_campus))\n",
        "\n",
        "s2.update_on_campus(False)\n",
        "print('\\nAfter update')\n",
        "print('{} stays on campus?: {}'.format(s2.full_name(),s2.on_campus))\n",
        "print('{} stays on campus?: {}'.format(s1.full_name(),s1.on_campus))"
      ],
      "execution_count": 0,
      "outputs": [
        {
          "output_type": "stream",
          "text": [
            "\n",
            "Before update\n",
            "darshan roy stays on campus?: False\n",
            "\n",
            "After update\n",
            "darshan roy stays on campus?: False\n",
            "amrit chaudhary stays on campus?: True\n"
          ],
          "name": "stdout"
        }
      ]
    },
    {
      "cell_type": "markdown",
      "metadata": {
        "id": "85iB5Lj5jQ_b",
        "colab_type": "text"
      },
      "source": [
        "<center>\n",
        "\n",
        "<h2>object.__dict__</h2>\n"
      ]
    },
    {
      "cell_type": "code",
      "metadata": {
        "id": "0yGxfU4NThIE",
        "colab_type": "code",
        "outputId": "20cee4da-a231-4e7b-86db-2f09a67c356d",
        "colab": {
          "base_uri": "https://localhost:8080/",
          "height": 87
        }
      },
      "source": [
        "print(s1.__dict__)\n",
        "print(s2.__dict__)\n",
        "print(Student.__dict__)"
      ],
      "execution_count": 0,
      "outputs": [
        {
          "output_type": "stream",
          "text": [
            "{'first': 'amrit', 'last': 'chaudhary', 'gender': 'male', 'email': 'amritchaudhary@college.edu'}\n",
            "{'first': 'darshan', 'last': 'roy', 'gender': 'male', 'email': 'darshanroy@college.edu', 'on_campus': False}\n",
            "{'__module__': '__main__', 'on_campus': True, '__init__': <function Student.__init__ at 0x7fa583feb158>, 'full_name': <function Student.full_name at 0x7fa583feb7b8>, 'update_on_campus': <function Student.update_on_campus at 0x7fa583feb1e0>, '__dict__': <attribute '__dict__' of 'Student' objects>, '__weakref__': <attribute '__weakref__' of 'Student' objects>, '__doc__': None}\n"
          ],
          "name": "stdout"
        }
      ]
    },
    {
      "cell_type": "markdown",
      "metadata": {
        "id": "GHpjb9Xvf1ca",
        "colab_type": "text"
      },
      "source": [
        "The above print statements are a proof that the instance creates a copy of the class variable only if update is made otherwise it falls back to the parent class and tries to find the variable there.\n",
        "\n",
        "s2 has it's own value for on_campus while s1 uses the one in parent class.\n"
      ]
    },
    {
      "cell_type": "markdown",
      "metadata": {
        "id": "4asot3wsiH-z",
        "colab_type": "text"
      },
      "source": [
        "<center><h2>isinstance</h2></center>\n",
        "\n",
        "Check if an instance object is an instance of the class or not?\n",
        "\n",
        "syntax: isinstance(instance_name,class_name)\n",
        "\n",
        "**o**/p : True / False"
      ]
    },
    {
      "cell_type": "code",
      "metadata": {
        "id": "WrlM20q_g6tj",
        "colab_type": "code",
        "outputId": "b8f06486-2ad2-40d0-8e5a-f52c61bbb0c9",
        "colab": {
          "base_uri": "https://localhost:8080/",
          "height": 50
        }
      },
      "source": [
        "class Faculty:\n",
        "  pass\n",
        "\n",
        "f1 = Faculty()\n",
        "\n",
        "print(isinstance(s1,Student))\n",
        "print(isinstance(s1,Faculty))"
      ],
      "execution_count": 0,
      "outputs": [
        {
          "output_type": "stream",
          "text": [
            "True\n",
            "False\n"
          ],
          "name": "stdout"
        }
      ]
    },
    {
      "cell_type": "markdown",
      "metadata": {
        "id": "c7W3XiRDiqyv",
        "colab_type": "text"
      },
      "source": [
        "<center><h2>Class Methods</h2></center>\n",
        "\n",
        "Class methods are functions that are specific to the class and not individual to the instance.\n",
        "\n",
        "They have cls as the first parameter instead of self (regular methods in a class) and are defined using the class decorator"
      ]
    },
    {
      "cell_type": "code",
      "metadata": {
        "id": "YpnEJ7BhjAP5",
        "colab_type": "code",
        "outputId": "c63ad6c4-f801-4260-fb6f-f9cf9c4bab0c",
        "colab": {
          "base_uri": "https://localhost:8080/",
          "height": 151
        }
      },
      "source": [
        "class Faculty:\n",
        "  raise_percent = 1.05\n",
        "  def __init__(self, first, last, gender, exp, pay):\n",
        "    self.first = first\n",
        "    self.last = last\n",
        "    self.gender = gender\n",
        "    self.exp = exp\n",
        "    self.pay = pay\n",
        "  \n",
        "  @classmethod\n",
        "  def set_raise_percent(cls,percent):\n",
        "    cls.raise_percent = percent\n",
        "\n",
        "  def apply_raise(self):\n",
        "    self.pay = self.pay*self.raise_percent\n",
        "\n",
        "f1 = Faculty('shubh', 'A', 'M', 5, 30000)\n",
        "f2 = Faculty('vidhi', 'S', 'F', 4, 29000)\n",
        "\n",
        "print(f1.pay)\n",
        "print('\\nBefore')\n",
        "print('raise % for f1: {}'.format(f1.raise_percent))\n",
        "Faculty.set_raise_percent(1.1)\n",
        "\n",
        "print('\\nAfter update')\n",
        "print('raise % for f1: {}'.format(f1.raise_percent))\n",
        "print('raise % for f2: {}'.format(f2.raise_percent))"
      ],
      "execution_count": 51,
      "outputs": [
        {
          "output_type": "stream",
          "text": [
            "30000\n",
            "Before\n",
            "\n",
            "raise % for f1: 1.05\n",
            "\n",
            "After update\n",
            "raise % for f1: 1.1\n",
            "raise % for f2: 1.1\n"
          ],
          "name": "stdout"
        }
      ]
    },
    {
      "cell_type": "markdown",
      "metadata": {
        "id": "eiyJy04-liHf",
        "colab_type": "text"
      },
      "source": [
        "<center><h2>Static Methods</h2></center>\n",
        "\n",
        "They are used when we have they have something related to the class object but do not have anything to update in the class or instance.\n",
        "\n",
        "\n",
        "Static methods do not take self or cls as a parameter and behave like a normal python function.\n",
        "\n",
        "Similar to class methods, static methods are also defined using a decorator.\n",
        "\n",
        "Snytax:\n",
        "\n",
        "@staticmethod\n",
        "\n",
        "def func_name(p1, p2,...):\n",
        "\n",
        "\n"
      ]
    },
    {
      "cell_type": "code",
      "metadata": {
        "id": "G7eYEheLxUa-",
        "colab_type": "code",
        "colab": {
          "base_uri": "https://localhost:8080/",
          "height": 50
        },
        "outputId": "f8b90698-11fb-415f-bf43-f97bd931eb37"
      },
      "source": [
        "import datetime\n",
        "\n",
        "class Faculty:\n",
        "  raise_percent = 1.05\n",
        "  def __init__(self, first, last, gender, exp, pay):\n",
        "    self.first = first\n",
        "    self.last = last\n",
        "    self.gender = gender\n",
        "    self.exp = exp\n",
        "    self.pay = pay\n",
        "  \n",
        "  @staticmethod\n",
        "  def is_workday(day):\n",
        "    if day.month in [5,6] or day.weekday ==6:\n",
        "      return 'It is holiday'\n",
        "    elif day.weekday == 5:\n",
        "      return 'It is a half work day'\n",
        "    return 'It is a regular work day'\n",
        "\n",
        "f1 = Faculty('shubh', 'A', 'M', 5, 30000)\n",
        "day = datetime.date(2020, 5, 27)\n",
        "print(day)\n",
        "print(f1.is_workday(day))\n",
        "#prints Holiday if the month is 5 or 6 if the day is sunday\n",
        "#prints Half day if the month is anything apart from 5 or 6 and the week of the day is 5 i.e. saturday\n",
        "#prints full day otherwise"
      ],
      "execution_count": 74,
      "outputs": [
        {
          "output_type": "stream",
          "text": [
            "2020-05-27\n",
            "It is holiday\n"
          ],
          "name": "stdout"
        }
      ]
    },
    {
      "cell_type": "markdown",
      "metadata": {
        "id": "k5bXy6AU3bpj",
        "colab_type": "text"
      },
      "source": [
        "<center><h2>Subclass</h2></center>\n",
        "\n",
        "Similar to instances taking data from class objects, classes can also inherit  data from another class.\n",
        "\n",
        "In the below example Teaching class inherits data from the Faculty class thus increasing code reuse and keeping the code clean.\n",
        "\n",
        "super() is used to refer to the parent class.\n",
        "\n",
        "super().__init__ will pass the relevant parameters to the parent class which will help create in the instance of teaching faculty."
      ]
    },
    {
      "cell_type": "code",
      "metadata": {
        "id": "e6yb7yrh3h_8",
        "colab_type": "code",
        "colab": {
          "base_uri": "https://localhost:8080/",
          "height": 34
        },
        "outputId": "1cdd8813-8865-4fb5-fe41-ecd0ce9a9f6b"
      },
      "source": [
        "class Teaching_faculty(Faculty):\n",
        "  def __init__(self, first, last, gender, exp, pay, subjects=None):\n",
        "    super().__init__(first, last, gender, exp, pay)\n",
        "    self.subjects = subjects\n",
        "  \n",
        "  def add_subject(self,subject_list):\n",
        "    if self.subjects == None:\n",
        "      self.subjects = subject_list\n",
        "    else:\n",
        "      for i in subject_list:\n",
        "        if i not in self.subjects:\n",
        "          self.subjects.append(i)\n",
        "      \n",
        "tf1 = Teaching_faculty('ramesh', 'mahto', 'male', 7, 50000,['dsp', 'ai', 'fds'])\n",
        "print(tf1.first)\n",
        "print(tf1.subjects)\n",
        "tf1.add_subject(['dsp', 'cv'])\n",
        "print(tf1.subjects)"
      ],
      "execution_count": 92,
      "outputs": [
        {
          "output_type": "stream",
          "text": [
            "ramesh\n"
          ],
          "name": "stdout"
        }
      ]
    },
    {
      "cell_type": "markdown",
      "metadata": {
        "id": "Izqly2Zc5P6V",
        "colab_type": "text"
      },
      "source": [
        "<h2>issubclass</h2>\n",
        "We can check if one class is subclass of other or not using issubclass\n",
        "\n",
        "syntax:\n",
        "\n",
        "issubclass(class1, class2)\n",
        "\n",
        "o/p: True if class1 is subclass of class2 else False"
      ]
    },
    {
      "cell_type": "code",
      "metadata": {
        "id": "7BN9keRA6BH_",
        "colab_type": "code",
        "colab": {
          "base_uri": "https://localhost:8080/",
          "height": 50
        },
        "outputId": "de87c986-c1f8-47f6-fcbd-0a27e3d2aac9"
      },
      "source": [
        "print(issubclass(Teaching_faculty,Faculty))\n",
        "print(issubclass(Faculty,Teaching_faculty))"
      ],
      "execution_count": 97,
      "outputs": [
        {
          "output_type": "stream",
          "text": [
            "True\n",
            "False\n"
          ],
          "name": "stdout"
        }
      ]
    }
  ]
}