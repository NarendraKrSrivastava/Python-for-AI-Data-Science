{
  "nbformat": 4,
  "nbformat_minor": 0,
  "metadata": {
    "colab": {
      "name": "oops.ipynb",
      "provenance": [],
      "collapsed_sections": [],
      "authorship_tag": "ABX9TyNqDMgUB9iLSf1lD8ZMTsx9",
      "include_colab_link": true
    },
    "kernelspec": {
      "name": "python3",
      "display_name": "Python 3"
    }
  },
  "cells": [
    {
      "cell_type": "markdown",
      "metadata": {
        "id": "view-in-github",
        "colab_type": "text"
      },
      "source": [
        "<a href=\"https://colab.research.google.com/github/vvthakral/Python-for-AI-Data-Science/blob/master/oops.ipynb\" target=\"_parent\"><img src=\"https://colab.research.google.com/assets/colab-badge.svg\" alt=\"Open In Colab\"/></a>"
      ]
    },
    {
      "cell_type": "markdown",
      "metadata": {
        "id": "Si19AXHbFxJ2",
        "colab_type": "text"
      },
      "source": [
        "<h3><center>Object Oriented Programming in Pyhton!</center></h3>\n",
        "Everything (variable, function e.t.c) created in Python is an object and is an instance of some predefined class, like the below variable x is an object of class int.\n",
        "\n",
        "<p>That being said, we can also create our own classes in python.\n",
        "</p>\n"
      ]
    },
    {
      "cell_type": "code",
      "metadata": {
        "id": "hQsZ2I_EHELA",
        "colab_type": "code",
        "colab": {
          "base_uri": "https://localhost:8080/",
          "height": 34
        },
        "outputId": "ea7ee063-f0eb-46f5-84c1-29a03af5ba3c"
      },
      "source": [
        "x = 27\n",
        "print(type(x))"
      ],
      "execution_count": 1,
      "outputs": [
        {
          "output_type": "stream",
          "text": [
            "<class 'int'>\n"
          ],
          "name": "stdout"
        }
      ]
    },
    {
      "cell_type": "markdown",
      "metadata": {
        "id": "h01BRedcHtMQ",
        "colab_type": "text"
      },
      "source": [
        "<center>\n",
        "Class --> Blueprint\n",
        "\n",
        "Instance --> Individual editable copy of class"
      ]
    },
    {
      "cell_type": "markdown",
      "metadata": {
        "id": "BTA2xV9TI6fr",
        "colab_type": "text"
      },
      "source": [
        "In a class object:\n",
        "\n",
        "Data variables --> Attributes\n",
        "\n",
        "Function --> Methods"
      ]
    },
    {
      "cell_type": "markdown",
      "metadata": {
        "id": "PDni9ahLLBIh",
        "colab_type": "text"
      },
      "source": [
        "In the below cell, Student is a class and s1 is the instance of the class.Each instance can have it's own values for variables (instance variables) and can also inherit variables from the parent class.\n",
        "\n",
        "Also each instance is stored separately and is independent from the others so changes in one will not affect another instance."
      ]
    },
    {
      "cell_type": "code",
      "metadata": {
        "id": "q4JKL7edJMde",
        "colab_type": "code",
        "colab": {
          "base_uri": "https://localhost:8080/",
          "height": 50
        },
        "outputId": "5615c7bb-88f6-4ebc-c728-abe2a5b85812"
      },
      "source": [
        "class Student:\n",
        "  pass\n",
        "\n",
        "s1 = Student()\n",
        "s2 = Student()\n",
        "print(s1)\n",
        "print(s2)"
      ],
      "execution_count": 3,
      "outputs": [
        {
          "output_type": "stream",
          "text": [
            "<__main__.Student object at 0x7fa584096320>\n",
            "<__main__.Student object at 0x7fa584096160>\n"
          ],
          "name": "stdout"
        }
      ]
    },
    {
      "cell_type": "markdown",
      "metadata": {
        "id": "FxQbx5DxOsLB",
        "colab_type": "text"
      },
      "source": [
        "All names and numbers are fictious and are used just for the sake of example thus have no relation to the reality."
      ]
    },
    {
      "cell_type": "markdown",
      "metadata": {
        "id": "O-7rHz2PRq30",
        "colab_type": "text"
      },
      "source": [
        "Below is a simple class Student that acts as a blueprint of each studnet's instance that studies at the college.\n",
        "\n",
        "The attributes first, last, gender are instance variables and thus unique to each instance (2 students in this case).\n",
        "\n",
        "on_campus is a class variable and instances inherit it from the class.\n",
        "\n",
        "It is referred by self.var_name to treat it as unique variable within the instance or can be called by class_name.var_name to update it for all instances.\n"
      ]
    },
    {
      "cell_type": "code",
      "metadata": {
        "id": "9PUPPT6LLrR8",
        "colab_type": "code",
        "colab": {
          "base_uri": "https://localhost:8080/",
          "height": 151
        },
        "outputId": "04c339a1-df81-43dc-c494-eabf34ea2d14"
      },
      "source": [
        "class Student:\n",
        "  on_campus= True\n",
        "  def __init__(self, first, last, gender):\n",
        "    self.first = first\n",
        "    self.last = last\n",
        "    self.gender = gender\n",
        "    self.email = first + last + '@college.edu'\n",
        "\n",
        "  def full_name(self):\n",
        "    return '{} {}'.format(self.first,self.last)\n",
        "  \n",
        "  def update_on_campus(self, choice):\n",
        "    self.on_campus = choice\n",
        "\n",
        "s1 = Student('amrit', 'chaudhary', 'male')\n",
        "s2 = Student('darshan', 'roy', 'male')\n",
        "\n",
        "print(s2.full_name())"
      ],
      "execution_count": 20,
      "outputs": [
        {
          "output_type": "stream",
          "text": [
            "darshan roy\n",
            "\n",
            "Before update\n",
            "darshan roy stays on campus?: True\n",
            "\n",
            "After update\n",
            "darshan roy stays on campus?: False\n",
            "amrit chaudhary stays on campus?: True\n"
          ],
          "name": "stdout"
        }
      ]
    },
    {
      "cell_type": "markdown",
      "metadata": {
        "id": "8aTeCC6ZS5cW",
        "colab_type": "text"
      },
      "source": [
        "A change in class variable copy for s2 (referenced using self) does not result in change for the same variable in s1"
      ]
    },
    {
      "cell_type": "code",
      "metadata": {
        "id": "UblgVbxRTDaw",
        "colab_type": "code",
        "colab": {
          "base_uri": "https://localhost:8080/",
          "height": 134
        },
        "outputId": "ea8a84dd-9553-447d-b2e0-a6dfb0e2810c"
      },
      "source": [
        "print('\\nBefore update')\n",
        "print('{} stays on campus?: {}'.format(s2.full_name(),s2.on_campus))\n",
        "\n",
        "s2.update_on_campus(False)\n",
        "print('\\nAfter update')\n",
        "print('{} stays on campus?: {}'.format(s2.full_name(),s2.on_campus))\n",
        "print('{} stays on campus?: {}'.format(s1.full_name(),s1.on_campus))"
      ],
      "execution_count": 21,
      "outputs": [
        {
          "output_type": "stream",
          "text": [
            "\n",
            "Before update\n",
            "darshan roy stays on campus?: False\n",
            "\n",
            "After update\n",
            "darshan roy stays on campus?: False\n",
            "amrit chaudhary stays on campus?: True\n"
          ],
          "name": "stdout"
        }
      ]
    },
    {
      "cell_type": "code",
      "metadata": {
        "id": "0yGxfU4NThIE",
        "colab_type": "code",
        "colab": {
          "base_uri": "https://localhost:8080/",
          "height": 50
        },
        "outputId": "0e358e84-8014-460d-b3b4-f1990b031366"
      },
      "source": [
        "print(s1.__dict__)\n",
        "print(s2.__dict__)"
      ],
      "execution_count": 27,
      "outputs": [
        {
          "output_type": "stream",
          "text": [
            "{'first': 'amrit', 'last': 'chaudhary', 'gender': 'male', 'email': 'amritchaudhary@college.edu'}\n",
            "{'first': 'darshan', 'last': 'roy', 'gender': 'male', 'email': 'darshanroy@college.edu', 'on_campus': False}\n"
          ],
          "name": "stdout"
        }
      ]
    }
  ]
}