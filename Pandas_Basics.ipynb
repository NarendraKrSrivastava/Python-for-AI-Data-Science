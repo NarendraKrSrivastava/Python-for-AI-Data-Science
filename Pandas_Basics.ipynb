{
  "nbformat": 4,
  "nbformat_minor": 0,
  "metadata": {
    "colab": {
      "name": "Pandas_Basics.ipynb",
      "provenance": [],
      "collapsed_sections": []
    },
    "kernelspec": {
      "name": "python3",
      "display_name": "Python 3"
    }
  },
  "cells": [
    {
      "cell_type": "markdown",
      "metadata": {
        "id": "oTG0hh46d5io",
        "colab_type": "text"
      },
      "source": [
        ""
      ]
    },
    {
      "cell_type": "markdown",
      "metadata": {
        "id": "6z2xRRxyeBd_",
        "colab_type": "text"
      },
      "source": [
        "DataFrame:\n",
        "As in Python there are different type of data structure such as list, tuple,set,dictionary<br>\n",
        "In Pandas: there are mainly two type of data structure:<br>\n",
        "Series: Is it 1-dimensional labeled array capable of holding data of any type (integer, string, float, python objects, etc.). It comes along with the index which is also called as axis. Series contains homogenous data, meaning all the data inside that 1-d array would be off same type.\n",
        "\n",
        "DataFrame: It consists of one or many Series object collectively. So data would be heterogenous in nature, as many Series would comprise of different dtype."
      ]
    },
    {
      "cell_type": "code",
      "metadata": {
        "id": "K-b7JvHuQo8R",
        "colab_type": "code",
        "outputId": "328b6af2-b460-4e86-c419-de388c3027a1",
        "colab": {
          "base_uri": "https://localhost:8080/",
          "height": 678
        }
      },
      "source": [
        "#Initialize The DataFrame\n",
        "\n",
        "import pandas as pd\n",
        "\n",
        "#Data given to the dataframe can be of any form\n",
        "\n",
        "print('Data passed as dictionary')\n",
        "dict_df = pd.DataFrame({\"A\": [1, 2, 3], \"B\": [4, 5, 6]})\n",
        "print(dict_df)\n",
        "\n",
        "print('='*40)\n",
        "\n",
        "print('Data pass as list')\n",
        "dict_lst = pd.DataFrame([1,2,3,4])\n",
        "print(dict_lst)\n",
        "\n",
        "print('='*40)\n",
        "\n",
        "print('Data passed as list of list')\n",
        "dict_llst = pd.DataFrame([['May1',32],['May2',35],['May3',40],['May4',50]])\n",
        "print(dict_llst)\n",
        "\n",
        "print('='*40)\n",
        "\n",
        "print('Data passed as list of dict')\n",
        "dict_ldf = pd.DataFrame([{'a': 1, 'b': 2},{'a': 5, 'b': 10}])\n",
        "print(dict_ldf)\n",
        "\n",
        "print('='*40)\n",
        "\n",
        "print('Changing the datatype to float with dtype setter to float')\n",
        "dict_ldf = pd.DataFrame([{'a': 1, 'b': 2},{'a': 5, 'b': 10}],dtype=float)\n",
        "print(dict_ldf)\n",
        "\n",
        "print('='*40)\n",
        "\n",
        "print('Getting the column names')\n",
        "print(dict_ldf.columns)\n",
        "\n",
        "print('='*40)\n",
        "\n",
        "print('Renaming the column')\n",
        "dict_ldf.rename(columns={'a':'A','b':'B'},inplace=True)\n",
        "dict_ldf"
      ],
      "execution_count": 141,
      "outputs": [
        {
          "output_type": "stream",
          "text": [
            "Data passed as dictionary\n",
            "   A  B\n",
            "0  1  4\n",
            "1  2  5\n",
            "2  3  6\n",
            "========================================\n",
            "Data pass as list\n",
            "   0\n",
            "0  1\n",
            "1  2\n",
            "2  3\n",
            "3  4\n",
            "========================================\n",
            "Data passed as list of list\n",
            "      0   1\n",
            "0  May1  32\n",
            "1  May2  35\n",
            "2  May3  40\n",
            "3  May4  50\n",
            "========================================\n",
            "Data passed as list of dict\n",
            "   a   b\n",
            "0  1   2\n",
            "1  5  10\n",
            "========================================\n",
            "Changing the datatype to float with dtype setter to float\n",
            "     a     b\n",
            "0  1.0   2.0\n",
            "1  5.0  10.0\n",
            "========================================\n",
            "Getting the column names\n",
            "Index(['a', 'b'], dtype='object')\n",
            "========================================\n",
            "Renaming the column\n"
          ],
          "name": "stdout"
        },
        {
          "output_type": "execute_result",
          "data": {
            "text/html": [
              "<div>\n",
              "<style scoped>\n",
              "    .dataframe tbody tr th:only-of-type {\n",
              "        vertical-align: middle;\n",
              "    }\n",
              "\n",
              "    .dataframe tbody tr th {\n",
              "        vertical-align: top;\n",
              "    }\n",
              "\n",
              "    .dataframe thead th {\n",
              "        text-align: right;\n",
              "    }\n",
              "</style>\n",
              "<table border=\"1\" class=\"dataframe\">\n",
              "  <thead>\n",
              "    <tr style=\"text-align: right;\">\n",
              "      <th></th>\n",
              "      <th>A</th>\n",
              "      <th>B</th>\n",
              "    </tr>\n",
              "  </thead>\n",
              "  <tbody>\n",
              "    <tr>\n",
              "      <th>0</th>\n",
              "      <td>1.0</td>\n",
              "      <td>2.0</td>\n",
              "    </tr>\n",
              "    <tr>\n",
              "      <th>1</th>\n",
              "      <td>5.0</td>\n",
              "      <td>10.0</td>\n",
              "    </tr>\n",
              "  </tbody>\n",
              "</table>\n",
              "</div>"
            ],
            "text/plain": [
              "     A     B\n",
              "0  1.0   2.0\n",
              "1  5.0  10.0"
            ]
          },
          "metadata": {
            "tags": []
          },
          "execution_count": 141
        }
      ]
    },
    {
      "cell_type": "markdown",
      "metadata": {
        "id": "sAR2QXQspO1o",
        "colab_type": "text"
      },
      "source": [
        "#NaN\n",
        "Column wise NaN<br>\n",
        "Row wise NaN<br>\n",
        "Check whether NaN exists<br>\n",
        "Count how many NaN exists<br>\n",
        "How to deal with NaN<br>"
      ]
    },
    {
      "cell_type": "code",
      "metadata": {
        "id": "r-9Uf5oKpN3o",
        "colab_type": "code",
        "outputId": "f44afeaa-5fe5-42f0-bfba-a8dfd9d7ac24",
        "colab": {
          "base_uri": "https://localhost:8080/",
          "height": 487
        }
      },
      "source": [
        "#In below code, as in second dictionary of a list 'c'column is an extra column which is not in first_dict\n",
        "#So this is called missing value in first dictionart and hence it will be replaced by NaN\n",
        "#NaN - Not a number just like infinity which is any indication when the data is not found.\n",
        "\n",
        "\n",
        "\n",
        "\n",
        "dict_col_nan = pd.DataFrame([{'a': 1, 'b': 2},{'a': 5, 'b': 10,'c':20}])\n",
        "print(dict_col_nan)\n",
        "\n",
        "print('='*40)\n",
        "\n",
        "dict_row_nan = pd.DataFrame({\"A\": pd.Series([1, 2, 3],dtype = float), \"B\": pd.Series([4, 5, 6,9],dtype=float)})\n",
        "print(dict_row_nan)\n",
        "\n",
        "print('='*40)\n",
        "\n",
        "print('To check whether dataframe has null values?')\n",
        "#We use isnull function to check it\n",
        "print(dict_row_nan.isnull())\n",
        "\n",
        "\n",
        "#isnull working -- assign each data in the dataframe with True or False\n",
        "#return dataframe filled with True or False \n",
        "\n",
        "#To count how many NaN, use sum function on top of it\n",
        "print(dict_row_nan.isnull().sum(axis=0))  #---- here axis denotes which dimension you are talking about\n",
        "                                          #axis = 0, column wise calculation will be displayed, in which column NaN is found and how many (Along the row)\n",
        "                                          #axis = 1  row wise calculation will be displayed, which row how many NaNs' are found (Along the column)\n",
        "'''\n",
        "+------------+---------+--------+\n",
        "|            |  A      |  B     |\n",
        "+------------+---------+---------\n",
        "|      0     | NaN     | 1.52325|----axis=1----->\n",
        "+------------+---------+--------+\n",
        "             |         |\n",
        "             | axis=0  |\n",
        "             ↓         ↓\n",
        "'''\n",
        "\n",
        "print('='*40)\n",
        "\n",
        "#As in dictionary key becomes column, so if we do not match up the 'columns' with keys it will show the those columns as NaN\n",
        "dict_ldf = pd.DataFrame([{'a': 1, 'b': 2},{'a': 5, 'b': 10,'c':20}],columns=['A','B','c'])\n",
        "print(dict_ldf)\n",
        "\n",
        "print('='*40)\n",
        "\n",
        "print('Correct column will fill in values')\n",
        "\n",
        "dict_ldf = pd.DataFrame([{'a': 1, 'b': 2},{'a': 5, 'b': 10,'c':20}],columns=['a','b','c'])\n",
        "print(dict_ldf)\n",
        "\n",
        "\n",
        "\n"
      ],
      "execution_count": 142,
      "outputs": [
        {
          "output_type": "stream",
          "text": [
            "   a   b     c\n",
            "0  1   2   NaN\n",
            "1  5  10  20.0\n",
            "========================================\n",
            "     A    B\n",
            "0  1.0  4.0\n",
            "1  2.0  5.0\n",
            "2  3.0  6.0\n",
            "3  NaN  9.0\n",
            "========================================\n",
            "To check whether dataframe has null values?\n",
            "       A      B\n",
            "0  False  False\n",
            "1  False  False\n",
            "2  False  False\n",
            "3   True  False\n",
            "A    1\n",
            "B    0\n",
            "dtype: int64\n",
            "========================================\n",
            "    A   B     c\n",
            "0 NaN NaN   NaN\n",
            "1 NaN NaN  20.0\n",
            "========================================\n",
            "Correct column will fill in values\n",
            "   a   b     c\n",
            "0  1   2   NaN\n",
            "1  5  10  20.0\n"
          ],
          "name": "stdout"
        }
      ]
    },
    {
      "cell_type": "markdown",
      "metadata": {
        "id": "oOOQzE4tkFOS",
        "colab_type": "text"
      },
      "source": [
        "# Column and Indexes\n",
        "\n",
        "In case of dictionary the keys would act as columns but in lists, the column names if not specified will start as '0'-1st column, '1'-2nd Column and so on\n",
        "The left most side of the dataframe is called as index, it's starts default with index 0"
      ]
    },
    {
      "cell_type": "code",
      "metadata": {
        "id": "sLLmFJczjMeb",
        "colab_type": "code",
        "outputId": "cabbd877-ff10-46ba-cafe-19b614d02d4d",
        "colab": {
          "base_uri": "https://localhost:8080/",
          "height": 538
        }
      },
      "source": [
        "#Passing customize index --with index varibale\n",
        "\n",
        "dict_llst = pd.DataFrame([['May1',32],['May2',35],['May3',40],['May4',50]],index = ['Day1','Day2','Day3','Day4'])\n",
        "print(dict_llst)\n",
        "print('='*40)\n",
        "\n",
        "print('Changing column name while defining the dataframe')\n",
        "dict_llst = pd.DataFrame([['May1',32],['May2',35],['May3',40],['May4',50]],index = ['Day1','Day2','Day3','Day4'],columns = ['May','Temperature'])\n",
        "print(dict_llst)\n",
        "\n",
        "print('='*40)\n",
        "\n",
        "#We can make any column as index\n",
        "#Here we give the column name which we want to make index as follows\n",
        "\n",
        "dict_llst = pd.DataFrame([['May1',32],['May2',35],['May3',40],['May4',50]],columns = ['May','Temperature'])\n",
        "dict_llst.set_index('May')\n",
        "\n",
        "#We can see even after setting the index as 'May' Column the change did not reflected, this is because, it does not update orginal dataframe\n",
        "print(dict_llst)\n",
        "\n",
        "print('='*40)\n",
        "#Two ways of making the change getting reflected\n",
        "\n",
        "#Reassign to original dataframe, uncomment the below code\n",
        "\n",
        "'''\n",
        "\n",
        "dict_llst = dict_llst.set_index('May')\n",
        "print(dict_llst)\n",
        "print('='*40)\n",
        "'''\n",
        "\n",
        "#Make use of inplace parameter\n",
        "dict_llst.set_index('May',inplace=True)\n",
        "print(dict_llst)\n",
        "\n",
        "print('='*40)\n",
        "\n",
        "#To drop index to make back to original sequential form with reset_index method\n",
        "#Here drop=True means we want to drop the original index we have and reset to default value\n",
        "dict_llst.reset_index(drop=False,inplace=True)\n",
        "print(dict_llst)\n",
        "\n",
        "\n",
        "\n"
      ],
      "execution_count": 143,
      "outputs": [
        {
          "output_type": "stream",
          "text": [
            "         0   1\n",
            "Day1  May1  32\n",
            "Day2  May2  35\n",
            "Day3  May3  40\n",
            "Day4  May4  50\n",
            "========================================\n",
            "Changing column name while defining the dataframe\n",
            "       May  Temperature\n",
            "Day1  May1           32\n",
            "Day2  May2           35\n",
            "Day3  May3           40\n",
            "Day4  May4           50\n",
            "========================================\n",
            "    May  Temperature\n",
            "0  May1           32\n",
            "1  May2           35\n",
            "2  May3           40\n",
            "3  May4           50\n",
            "========================================\n",
            "      Temperature\n",
            "May              \n",
            "May1           32\n",
            "May2           35\n",
            "May3           40\n",
            "May4           50\n",
            "========================================\n",
            "    May  Temperature\n",
            "0  May1           32\n",
            "1  May2           35\n",
            "2  May3           40\n",
            "3  May4           50\n"
          ],
          "name": "stdout"
        }
      ]
    },
    {
      "cell_type": "markdown",
      "metadata": {
        "id": "AB7M1zf-Xm9w",
        "colab_type": "text"
      },
      "source": [
        "# Manipulation with Data\n",
        "Accessing<br>\n",
        "Adding new columns<br>\n",
        "Adding columns with cool tricks<br>\n",
        "Deleting columns<br>\n"
      ]
    },
    {
      "cell_type": "code",
      "metadata": {
        "id": "EfKG5pwqgkV0",
        "colab_type": "code",
        "outputId": "91f3e593-e276-4f0a-bcb5-835dff934eb1",
        "colab": {
          "base_uri": "https://localhost:8080/",
          "height": 890
        }
      },
      "source": [
        "df = pd.DataFrame([['May1',32],['May2',35],['May3',40],['May4',50]],index = ['Day1','Day2','Day3','Day4'],columns = ['May','Temperature'])\n",
        "\n",
        "print('Accessing whole column by its name')\n",
        "print(df['Temperature'])\n",
        "\n",
        "print('='*40)\n",
        "\n",
        "print('Adding Column with and without index see the diff')\n",
        "add_column = pd.Series(['Charni Rd','Grant Rd','Marine Lines','Churchgate'],index=['Day1','Day2','Day3','Day4'])\n",
        "df['Stations'] = add_column\n",
        "print(df)\n",
        "\n",
        "print('='*40)\n",
        "\n",
        "print('Use existing Column to create new column')\n",
        "\n",
        "df['Wind Speed'] = df['Temperature']*0.414\n",
        "print(df)\n",
        "\n",
        "print('='*40)\n",
        "\n",
        "print('Addition of two column, having same dtype')\n",
        "\n",
        "df['Add_Temp_Wind'] = df['Temperature'] + df['Wind Speed']\n",
        "print(df)\n",
        "\n",
        "\n",
        "print('Deleting columns from dataframe')\n",
        "#Use del function as follows\n",
        "print('---------Way 1 ---------------')\n",
        "\n",
        "del df['Add_Temp_Wind']\n",
        "print(df)\n",
        "\n",
        "print('---------Way 2 ---------------')\n",
        "\n",
        "df['Add_Temp_Wind'] = df['Temperature'] + df['Wind Speed']\n",
        "\n",
        "#use of pop, pass the column name you want to delete \n",
        "df.pop('Add_Temp_Wind')\n",
        "print(df)\n",
        "\n",
        "print('---------Way 3 ---------------')\n",
        "\n",
        "df['Add_Temp_Wind'] = df['Temperature'] + df['Wind Speed']\n",
        "\n",
        "#use drop method, which takes which column(s) to drop and how to\n",
        "df.drop('Add_Temp_Wind',axis=1,inplace=True)\n",
        "print(df)\n",
        "\n",
        "print('='*40)\n",
        "\n",
        "#Drop row of a dataframe\n",
        "#use drop function and pass the indexed index or name of that index\n",
        "\n",
        "#Single index\n",
        "df.drop(df.index[0])  #inplace=False\n",
        "\n",
        "#Multiple index\n",
        "df.drop(df.index[[0,1,2]]) #inplace=False\n",
        "\n",
        "#By index name\n",
        "df.drop('Day1',axis=0)\n",
        "print(df)\n"
      ],
      "execution_count": 62,
      "outputs": [
        {
          "output_type": "stream",
          "text": [
            "Accessing whole column by its name\n",
            "Day1    32\n",
            "Day2    35\n",
            "Day3    40\n",
            "Day4    50\n",
            "Name: Temperature, dtype: int64\n",
            "========================================\n",
            "Adding Column with and without index see the diff\n",
            "       May  Temperature      Stations\n",
            "Day1  May1           32     Charni Rd\n",
            "Day2  May2           35      Grant Rd\n",
            "Day3  May3           40  Marine Lines\n",
            "Day4  May4           50    Churchgate\n",
            "========================================\n",
            "Use existing Column to create new column\n",
            "       May  Temperature      Stations  Wind Speed\n",
            "Day1  May1           32     Charni Rd      13.248\n",
            "Day2  May2           35      Grant Rd      14.490\n",
            "Day3  May3           40  Marine Lines      16.560\n",
            "Day4  May4           50    Churchgate      20.700\n",
            "========================================\n",
            "Addition of two column, having same dtype\n",
            "       May  Temperature      Stations  Wind Speed  Add_Temp_Wind\n",
            "Day1  May1           32     Charni Rd      13.248         45.248\n",
            "Day2  May2           35      Grant Rd      14.490         49.490\n",
            "Day3  May3           40  Marine Lines      16.560         56.560\n",
            "Day4  May4           50    Churchgate      20.700         70.700\n",
            "Deleting columns from dataframe\n",
            "---------Way 1 ---------------\n",
            "       May  Temperature      Stations  Wind Speed\n",
            "Day1  May1           32     Charni Rd      13.248\n",
            "Day2  May2           35      Grant Rd      14.490\n",
            "Day3  May3           40  Marine Lines      16.560\n",
            "Day4  May4           50    Churchgate      20.700\n",
            "---------Way 2 ---------------\n",
            "       May  Temperature      Stations  Wind Speed\n",
            "Day1  May1           32     Charni Rd      13.248\n",
            "Day2  May2           35      Grant Rd      14.490\n",
            "Day3  May3           40  Marine Lines      16.560\n",
            "Day4  May4           50    Churchgate      20.700\n",
            "---------Way 3 ---------------\n",
            "       May  Temperature      Stations  Wind Speed\n",
            "Day1  May1           32     Charni Rd      13.248\n",
            "Day2  May2           35      Grant Rd      14.490\n",
            "Day3  May3           40  Marine Lines      16.560\n",
            "Day4  May4           50    Churchgate      20.700\n",
            "========================================\n",
            "       May  Temperature      Stations  Wind Speed\n",
            "Day1  May1           32     Charni Rd      13.248\n",
            "Day2  May2           35      Grant Rd      14.490\n",
            "Day3  May3           40  Marine Lines      16.560\n",
            "Day4  May4           50    Churchgate      20.700\n"
          ],
          "name": "stdout"
        }
      ]
    },
    {
      "cell_type": "markdown",
      "metadata": {
        "id": "CzBDxORmz1Yz",
        "colab_type": "text"
      },
      "source": [
        "# Use of loc and iloc"
      ]
    },
    {
      "cell_type": "markdown",
      "metadata": {
        "id": "OvRVbHbG4Dac",
        "colab_type": "text"
      },
      "source": [
        "![alt text](http://104.236.88.249/wp-content/uploads/2016/10/Pandas-selections-and-indexing.png)"
      ]
    },
    {
      "cell_type": "code",
      "metadata": {
        "id": "bX6_u-f0z07q",
        "colab_type": "code",
        "outputId": "5c8384f7-723d-4f7f-cec4-733ca2205eda",
        "colab": {
          "base_uri": "https://localhost:8080/",
          "height": 790
        }
      },
      "source": [
        "print(type(df.iloc[1]))\n",
        "print('='*40)\n",
        "\n",
        "print('range of index wise selection in discrete manner\\n')\n",
        "print(df.iloc[[1,2,3]])\n",
        "print('='*40)\n",
        "\n",
        "print('\\nPartial selection column wise and row wise')\n",
        "print(df.iloc[0:3,0:3])\n",
        "\n",
        "print('\\nComplete row wise and partial column wise')\n",
        "print(df.iloc[:,0:3])\n",
        "\n",
        "\n",
        "print('='*40)\n",
        "\n",
        "print('\\nPartial row wise and partial column wise')\n",
        "print(df.iloc[[1,0,2],:])\n",
        "print('='*40)\n",
        "\n",
        "print('\\nGet single value')\n",
        "print(df.iloc[0,0])\n",
        "print('='*40)\n",
        "\n",
        "print('\\nChanging that value')\n",
        "\n",
        "df.iloc[0,0] = 'May11'\n",
        "print(df.iloc[0,0])\n",
        "print('='*40)\n",
        "\n",
        "print('\\nChanging entire row')\n",
        "df.iloc[0] = ['May1',35,'Charni Road',15.63]\n",
        "print(df)\n",
        "\n",
        "print('*'*90)"
      ],
      "execution_count": 64,
      "outputs": [
        {
          "output_type": "stream",
          "text": [
            "<class 'pandas.core.series.Series'>\n",
            "========================================\n",
            "range of index wise selection in discrete manner\n",
            "\n",
            "       May  Temperature      Stations  Wind Speed\n",
            "Day2  May2           35      Grant Rd       14.49\n",
            "Day3  May3           40  Marine Lines       16.56\n",
            "Day4  May4           50    Churchgate       20.70\n",
            "========================================\n",
            "\n",
            "Partial selection column wise and row wise\n",
            "        May  Temperature      Stations\n",
            "Day1  May11           32     Charni Rd\n",
            "Day2   May2           35      Grant Rd\n",
            "Day3   May3           40  Marine Lines\n",
            "\n",
            "Complete row wise and partial column wise\n",
            "        May  Temperature      Stations\n",
            "Day1  May11           32     Charni Rd\n",
            "Day2   May2           35      Grant Rd\n",
            "Day3   May3           40  Marine Lines\n",
            "Day4   May4           50    Churchgate\n",
            "========================================\n",
            "\n",
            "Partial row wise and partial column wise\n",
            "        May  Temperature      Stations  Wind Speed\n",
            "Day2   May2           35      Grant Rd      14.490\n",
            "Day1  May11           32     Charni Rd      13.248\n",
            "Day3   May3           40  Marine Lines      16.560\n",
            "========================================\n",
            "\n",
            "Get single value\n",
            "May11\n",
            "========================================\n",
            "\n",
            "Changing that value\n",
            "May11\n",
            "========================================\n",
            "\n",
            "Changing entire row\n",
            "       May  Temperature      Stations  Wind Speed\n",
            "Day1  May1           35   Charni Road       15.63\n",
            "Day2  May2           35      Grant Rd       14.49\n",
            "Day3  May3           40  Marine Lines       16.56\n",
            "Day4  May4           50    Churchgate       20.70\n",
            "******************************************************************************************\n"
          ],
          "name": "stdout"
        }
      ]
    },
    {
      "cell_type": "code",
      "metadata": {
        "id": "TC3ry277eDZS",
        "colab_type": "code",
        "colab": {}
      },
      "source": [
        "#LOC\n",
        "\n",
        "#loc is label-based, which means that we have to specify the name of the rows and columns that we need to filter out.\n",
        "#pass columN names and not indexes\n",
        "\n",
        "#Creating sample DataFrame\n",
        "\n",
        "import numpy as np\n",
        "\n",
        "data = pd.DataFrame({\n",
        "    'age' :     [ 10, 22, 13, 21, 12, 11, 17],\n",
        "    'section' : [ 'A', 'B', 'C', 'B', 'B', 'A', 'A'],\n",
        "    'city' :    [ 'Gurgaon', 'Delhi', 'Mumbai', 'Delhi', 'Mumbai', 'Delhi', 'Mumbai'],\n",
        "    'gender' :  [ 'M', 'F', 'F', 'M', 'M', 'M', 'F'],\n",
        "    'favourite_color' : [ 'red', np.NAN, 'yellow', np.NAN, 'black', 'green', 'red']\n",
        "})\n",
        "\n",
        "#Partial column\n",
        "data.loc[:,['age','section']]\n",
        "\n",
        "#Partial row\n",
        "data.loc[0:3,:]\n"
      ],
      "execution_count": 0,
      "outputs": []
    },
    {
      "cell_type": "code",
      "metadata": {
        "id": "bGIQtl-wkV7f",
        "colab_type": "code",
        "colab": {
          "base_uri": "https://localhost:8080/",
          "height": 84
        },
        "outputId": "fe1e5f2a-03ca-402d-f240-bd31baf1b34a"
      },
      "source": [
        "\n",
        "#Condition based filtering\n",
        "\n",
        "#Syntax ----- data.loc['Condition(s)']\n",
        "data.loc[data['age'] >= 15]\n",
        "\n",
        "#Mutiple conditions\n",
        "data.loc[(data['age'] >= 12) & (data['gender'] == 'M')]\n",
        "\n",
        "#This condition based filtering is also called as masking\n",
        "#Syntax mask = (Condtion(s)) --> dataframe[mask]\n",
        "\n",
        "mask  = (data['age'] >= 15)\n",
        "data1 = data[mask]\n",
        "print(data1)\n"
      ],
      "execution_count": 140,
      "outputs": [
        {
          "output_type": "stream",
          "text": [
            "   age section    city gender favourite_color\n",
            "1   22       B   Delhi      F             NaN\n",
            "3   21       B   Delhi      M             NaN\n",
            "6   17       A  Mumbai      F             red\n"
          ],
          "name": "stdout"
        }
      ]
    },
    {
      "cell_type": "code",
      "metadata": {
        "id": "txz_T5Ldai1H",
        "colab_type": "code",
        "colab": {}
      },
      "source": [
        "from google.colab import files\n",
        "import numpy as np\n",
        "import pandas as pd"
      ],
      "execution_count": 0,
      "outputs": []
    },
    {
      "cell_type": "markdown",
      "metadata": {
        "id": "rEe0aU4ZL45L",
        "colab_type": "text"
      },
      "source": [
        "# Reading in data as pandas dataframe"
      ]
    },
    {
      "cell_type": "code",
      "metadata": {
        "id": "NIMyl-IgMZ9w",
        "colab_type": "code",
        "colab": {
          "resources": {
            "http://localhost:8080/nbextensions/google.colab/files.js": {
              "data": "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",
              "ok": true,
              "headers": [
                [
                  "content-type",
                  "application/javascript"
                ]
              ],
              "status": 200,
              "status_text": ""
            }
          },
          "base_uri": "https://localhost:8080/",
          "height": 111
        },
        "outputId": "0ce99f98-d7cc-40bb-85eb-81c2d038f4d1"
      },
      "source": [
        "files.upload()"
      ],
      "execution_count": 8,
      "outputs": [
        {
          "output_type": "display_data",
          "data": {
            "text/html": [
              "\n",
              "     <input type=\"file\" id=\"files-fb76ed08-331b-4f0e-be95-d967c0b954a1\" name=\"files[]\" multiple disabled />\n",
              "     <output id=\"result-fb76ed08-331b-4f0e-be95-d967c0b954a1\">\n",
              "      Upload widget is only available when the cell has been executed in the\n",
              "      current browser session. Please rerun this cell to enable.\n",
              "      </output>\n",
              "      <script src=\"/nbextensions/google.colab/files.js\"></script> "
            ],
            "text/plain": [
              "<IPython.core.display.HTML object>"
            ]
          },
          "metadata": {
            "tags": []
          }
        },
        {
          "output_type": "stream",
          "text": [
            "Saving pokemon_data.csv to pokemon_data.csv\n"
          ],
          "name": "stdout"
        },
        {
          "output_type": "execute_result",
          "data": {
            "text/plain": [
              "{'pokemon_data.csv': b\"#,Name,Type 1,Type 2,HP,Attack,Defense,Sp. Atk,Sp. Def,Speed,Generation,Legendary\\n1,Bulbasaur,Grass,Poison,45,49,49,65,65,45,1,FALSE\\n2,Ivysaur,Grass,Poison,60,62,63,80,80,60,1,FALSE\\n3,Venusaur,Grass,Poison,80,82,83,100,100,80,1,FALSE\\n3,VenusaurMega Venusaur,Grass,Poison,80,100,123,122,120,80,1,FALSE\\n4,Charmander,Fire,,39,52,43,60,50,65,1,FALSE\\n5,Charmeleon,Fire,,58,64,58,80,65,80,1,FALSE\\n6,Charizard,Fire,Flying,78,84,78,109,85,100,1,FALSE\\n6,CharizardMega Charizard X,Fire,Dragon,78,130,111,130,85,100,1,FALSE\\n6,CharizardMega Charizard Y,Fire,Flying,78,104,78,159,115,100,1,FALSE\\n7,Squirtle,Water,,44,48,65,50,64,43,1,FALSE\\n8,Wartortle,Water,,59,63,80,65,80,58,1,FALSE\\n9,Blastoise,Water,,79,83,100,85,105,78,1,FALSE\\n9,BlastoiseMega Blastoise,Water,,79,103,120,135,115,78,1,FALSE\\n10,Caterpie,Bug,,45,30,35,20,20,45,1,FALSE\\n11,Metapod,Bug,,50,20,55,25,25,30,1,FALSE\\n12,Butterfree,Bug,Flying,60,45,50,90,80,70,1,FALSE\\n13,Weedle,Bug,Poison,40,35,30,20,20,50,1,FALSE\\n14,Kakuna,Bug,Poison,45,25,50,25,25,35,1,FALSE\\n15,Beedrill,Bug,Poison,65,90,40,45,80,75,1,FALSE\\n15,BeedrillMega Beedrill,Bug,Poison,65,150,40,15,80,145,1,FALSE\\n16,Pidgey,Normal,Flying,40,45,40,35,35,56,1,FALSE\\n17,Pidgeotto,Normal,Flying,63,60,55,50,50,71,1,FALSE\\n18,Pidgeot,Normal,Flying,83,80,75,70,70,101,1,FALSE\\n18,PidgeotMega Pidgeot,Normal,Flying,83,80,80,135,80,121,1,FALSE\\n19,Rattata,Normal,,30,56,35,25,35,72,1,FALSE\\n20,Raticate,Normal,,55,81,60,50,70,97,1,FALSE\\n21,Spearow,Normal,Flying,40,60,30,31,31,70,1,FALSE\\n22,Fearow,Normal,Flying,65,90,65,61,61,100,1,FALSE\\n23,Ekans,Poison,,35,60,44,40,54,55,1,FALSE\\n24,Arbok,Poison,,60,85,69,65,79,80,1,FALSE\\n25,Pikachu,Electric,,35,55,40,50,50,90,1,FALSE\\n26,Raichu,Electric,,60,90,55,90,80,110,1,FALSE\\n27,Sandshrew,Ground,,50,75,85,20,30,40,1,FALSE\\n28,Sandslash,Ground,,75,100,110,45,55,65,1,FALSE\\n29,Nidoran (Female),Poison,,55,47,52,40,40,41,1,FALSE\\n30,Nidorina,Poison,,70,62,67,55,55,56,1,FALSE\\n31,Nidoqueen,Poison,Ground,90,92,87,75,85,76,1,FALSE\\n32,Nidoran (Male),Poison,,46,57,40,40,40,50,1,FALSE\\n33,Nidorino,Poison,,61,72,57,55,55,65,1,FALSE\\n34,Nidoking,Poison,Ground,81,102,77,85,75,85,1,FALSE\\n35,Clefairy,Fairy,,70,45,48,60,65,35,1,FALSE\\n36,Clefable,Fairy,,95,70,73,95,90,60,1,FALSE\\n37,Vulpix,Fire,,38,41,40,50,65,65,1,FALSE\\n38,Ninetales,Fire,,73,76,75,81,100,100,1,FALSE\\n39,Jigglypuff,Normal,Fairy,115,45,20,45,25,20,1,FALSE\\n40,Wigglytuff,Normal,Fairy,140,70,45,85,50,45,1,FALSE\\n41,Zubat,Poison,Flying,40,45,35,30,40,55,1,FALSE\\n42,Golbat,Poison,Flying,75,80,70,65,75,90,1,FALSE\\n43,Oddish,Grass,Poison,45,50,55,75,65,30,1,FALSE\\n44,Gloom,Grass,Poison,60,65,70,85,75,40,1,FALSE\\n45,Vileplume,Grass,Poison,75,80,85,110,90,50,1,FALSE\\n46,Paras,Bug,Grass,35,70,55,45,55,25,1,FALSE\\n47,Parasect,Bug,Grass,60,95,80,60,80,30,1,FALSE\\n48,Venonat,Bug,Poison,60,55,50,40,55,45,1,FALSE\\n49,Venomoth,Bug,Poison,70,65,60,90,75,90,1,FALSE\\n50,Diglett,Ground,,10,55,25,35,45,95,1,FALSE\\n51,Dugtrio,Ground,,35,80,50,50,70,120,1,FALSE\\n52,Meowth,Normal,,40,45,35,40,40,90,1,FALSE\\n53,Persian,Normal,,65,70,60,65,65,115,1,FALSE\\n54,Psyduck,Water,,50,52,48,65,50,55,1,FALSE\\n55,Golduck,Water,,80,82,78,95,80,85,1,FALSE\\n56,Mankey,Fighting,,40,80,35,35,45,70,1,FALSE\\n57,Primeape,Fighting,,65,105,60,60,70,95,1,FALSE\\n58,Growlithe,Fire,,55,70,45,70,50,60,1,FALSE\\n59,Arcanine,Fire,,90,110,80,100,80,95,1,FALSE\\n60,Poliwag,Water,,40,50,40,40,40,90,1,FALSE\\n61,Poliwhirl,Water,,65,65,65,50,50,90,1,FALSE\\n62,Poliwrath,Water,Fighting,90,95,95,70,90,70,1,FALSE\\n63,Abra,Psychic,,25,20,15,105,55,90,1,FALSE\\n64,Kadabra,Psychic,,40,35,30,120,70,105,1,FALSE\\n65,Alakazam,Psychic,,55,50,45,135,95,120,1,FALSE\\n65,AlakazamMega Alakazam,Psychic,,55,50,65,175,95,150,1,FALSE\\n66,Machop,Fighting,,70,80,50,35,35,35,1,FALSE\\n67,Machoke,Fighting,,80,100,70,50,60,45,1,FALSE\\n68,Machamp,Fighting,,90,130,80,65,85,55,1,FALSE\\n69,Bellsprout,Grass,Poison,50,75,35,70,30,40,1,FALSE\\n70,Weepinbell,Grass,Poison,65,90,50,85,45,55,1,FALSE\\n71,Victreebel,Grass,Poison,80,105,65,100,70,70,1,FALSE\\n72,Tentacool,Water,Poison,40,40,35,50,100,70,1,FALSE\\n73,Tentacruel,Water,Poison,80,70,65,80,120,100,1,FALSE\\n74,Geodude,Rock,Ground,40,80,100,30,30,20,1,FALSE\\n75,Graveler,Rock,Ground,55,95,115,45,45,35,1,FALSE\\n76,Golem,Rock,Ground,80,120,130,55,65,45,1,FALSE\\n77,Ponyta,Fire,,50,85,55,65,65,90,1,FALSE\\n78,Rapidash,Fire,,65,100,70,80,80,105,1,FALSE\\n79,Slowpoke,Water,Psychic,90,65,65,40,40,15,1,FALSE\\n80,Slowbro,Water,Psychic,95,75,110,100,80,30,1,FALSE\\n80,SlowbroMega Slowbro,Water,Psychic,95,75,180,130,80,30,1,FALSE\\n81,Magnemite,Electric,Steel,25,35,70,95,55,45,1,FALSE\\n82,Magneton,Electric,Steel,50,60,95,120,70,70,1,FALSE\\n83,Farfetch'd,Normal,Flying,52,65,55,58,62,60,1,FALSE\\n84,Doduo,Normal,Flying,35,85,45,35,35,75,1,FALSE\\n85,Dodrio,Normal,Flying,60,110,70,60,60,100,1,FALSE\\n86,Seel,Water,,65,45,55,45,70,45,1,FALSE\\n87,Dewgong,Water,Ice,90,70,80,70,95,70,1,FALSE\\n88,Grimer,Poison,,80,80,50,40,50,25,1,FALSE\\n89,Muk,Poison,,105,105,75,65,100,50,1,FALSE\\n90,Shellder,Water,,30,65,100,45,25,40,1,FALSE\\n91,Cloyster,Water,Ice,50,95,180,85,45,70,1,FALSE\\n92,Gastly,Ghost,Poison,30,35,30,100,35,80,1,FALSE\\n93,Haunter,Ghost,Poison,45,50,45,115,55,95,1,FALSE\\n94,Gengar,Ghost,Poison,60,65,60,130,75,110,1,FALSE\\n94,GengarMega Gengar,Ghost,Poison,60,65,80,170,95,130,1,FALSE\\n95,Onix,Rock,Ground,35,45,160,30,45,70,1,FALSE\\n96,Drowzee,Psychic,,60,48,45,43,90,42,1,FALSE\\n97,Hypno,Psychic,,85,73,70,73,115,67,1,FALSE\\n98,Krabby,Water,,30,105,90,25,25,50,1,FALSE\\n99,Kingler,Water,,55,130,115,50,50,75,1,FALSE\\n100,Voltorb,Electric,,40,30,50,55,55,100,1,FALSE\\n101,Electrode,Electric,,60,50,70,80,80,140,1,FALSE\\n102,Exeggcute,Grass,Psychic,60,40,80,60,45,40,1,FALSE\\n103,Exeggutor,Grass,Psychic,95,95,85,125,65,55,1,FALSE\\n104,Cubone,Ground,,50,50,95,40,50,35,1,FALSE\\n105,Marowak,Ground,,60,80,110,50,80,45,1,FALSE\\n106,Hitmonlee,Fighting,,50,120,53,35,110,87,1,FALSE\\n107,Hitmonchan,Fighting,,50,105,79,35,110,76,1,FALSE\\n108,Lickitung,Normal,,90,55,75,60,75,30,1,FALSE\\n109,Koffing,Poison,,40,65,95,60,45,35,1,FALSE\\n110,Weezing,Poison,,65,90,120,85,70,60,1,FALSE\\n111,Rhyhorn,Ground,Rock,80,85,95,30,30,25,1,FALSE\\n112,Rhydon,Ground,Rock,105,130,120,45,45,40,1,FALSE\\n113,Chansey,Normal,,250,5,5,35,105,50,1,FALSE\\n114,Tangela,Grass,,65,55,115,100,40,60,1,FALSE\\n115,Kangaskhan,Normal,,105,95,80,40,80,90,1,FALSE\\n115,KangaskhanMega Kangaskhan,Normal,,105,125,100,60,100,100,1,FALSE\\n116,Horsea,Water,,30,40,70,70,25,60,1,FALSE\\n117,Seadra,Water,,55,65,95,95,45,85,1,FALSE\\n118,Goldeen,Water,,45,67,60,35,50,63,1,FALSE\\n119,Seaking,Water,,80,92,65,65,80,68,1,FALSE\\n120,Staryu,Water,,30,45,55,70,55,85,1,FALSE\\n121,Starmie,Water,Psychic,60,75,85,100,85,115,1,FALSE\\n122,Mr. Mime,Psychic,Fairy,40,45,65,100,120,90,1,FALSE\\n123,Scyther,Bug,Flying,70,110,80,55,80,105,1,FALSE\\n124,Jynx,Ice,Psychic,65,50,35,115,95,95,1,FALSE\\n125,Electabuzz,Electric,,65,83,57,95,85,105,1,FALSE\\n126,Magmar,Fire,,65,95,57,100,85,93,1,FALSE\\n127,Pinsir,Bug,,65,125,100,55,70,85,1,FALSE\\n127,PinsirMega Pinsir,Bug,Flying,65,155,120,65,90,105,1,FALSE\\n128,Tauros,Normal,,75,100,95,40,70,110,1,FALSE\\n129,Magikarp,Water,,20,10,55,15,20,80,1,FALSE\\n130,Gyarados,Water,Flying,95,125,79,60,100,81,1,FALSE\\n130,GyaradosMega Gyarados,Water,Dark,95,155,109,70,130,81,1,FALSE\\n131,Lapras,Water,Ice,130,85,80,85,95,60,1,FALSE\\n132,Ditto,Normal,,48,48,48,48,48,48,1,FALSE\\n133,Eevee,Normal,,55,55,50,45,65,55,1,FALSE\\n134,Vaporeon,Water,,130,65,60,110,95,65,1,FALSE\\n135,Jolteon,Electric,,65,65,60,110,95,130,1,FALSE\\n136,Flareon,Fire,,65,130,60,95,110,65,1,FALSE\\n137,Porygon,Normal,,65,60,70,85,75,40,1,FALSE\\n138,Omanyte,Rock,Water,35,40,100,90,55,35,1,FALSE\\n139,Omastar,Rock,Water,70,60,125,115,70,55,1,FALSE\\n140,Kabuto,Rock,Water,30,80,90,55,45,55,1,FALSE\\n141,Kabutops,Rock,Water,60,115,105,65,70,80,1,FALSE\\n142,Aerodactyl,Rock,Flying,80,105,65,60,75,130,1,FALSE\\n142,AerodactylMega Aerodactyl,Rock,Flying,80,135,85,70,95,150,1,FALSE\\n143,Snorlax,Normal,,160,110,65,65,110,30,1,FALSE\\n144,Articuno,Ice,Flying,90,85,100,95,125,85,1,TRUE\\n145,Zapdos,Electric,Flying,90,90,85,125,90,100,1,TRUE\\n146,Moltres,Fire,Flying,90,100,90,125,85,90,1,TRUE\\n147,Dratini,Dragon,,41,64,45,50,50,50,1,FALSE\\n148,Dragonair,Dragon,,61,84,65,70,70,70,1,FALSE\\n149,Dragonite,Dragon,Flying,91,134,95,100,100,80,1,FALSE\\n150,Mewtwo,Psychic,,106,110,90,154,90,130,1,TRUE\\n150,MewtwoMega Mewtwo X,Psychic,Fighting,106,190,100,154,100,130,1,TRUE\\n150,MewtwoMega Mewtwo Y,Psychic,,106,150,70,194,120,140,1,TRUE\\n151,Mew,Psychic,,100,100,100,100,100,100,1,FALSE\\n152,Chikorita,Grass,,45,49,65,49,65,45,2,FALSE\\n153,Bayleef,Grass,,60,62,80,63,80,60,2,FALSE\\n154,Meganium,Grass,,80,82,100,83,100,80,2,FALSE\\n155,Cyndaquil,Fire,,39,52,43,60,50,65,2,FALSE\\n156,Quilava,Fire,,58,64,58,80,65,80,2,FALSE\\n157,Typhlosion,Fire,,78,84,78,109,85,100,2,FALSE\\n158,Totodile,Water,,50,65,64,44,48,43,2,FALSE\\n159,Croconaw,Water,,65,80,80,59,63,58,2,FALSE\\n160,Feraligatr,Water,,85,105,100,79,83,78,2,FALSE\\n161,Sentret,Normal,,35,46,34,35,45,20,2,FALSE\\n162,Furret,Normal,,85,76,64,45,55,90,2,FALSE\\n163,Hoothoot,Normal,Flying,60,30,30,36,56,50,2,FALSE\\n164,Noctowl,Normal,Flying,100,50,50,76,96,70,2,FALSE\\n165,Ledyba,Bug,Flying,40,20,30,40,80,55,2,FALSE\\n166,Ledian,Bug,Flying,55,35,50,55,110,85,2,FALSE\\n167,Spinarak,Bug,Poison,40,60,40,40,40,30,2,FALSE\\n168,Ariados,Bug,Poison,70,90,70,60,60,40,2,FALSE\\n169,Crobat,Poison,Flying,85,90,80,70,80,130,2,FALSE\\n170,Chinchou,Water,Electric,75,38,38,56,56,67,2,FALSE\\n171,Lanturn,Water,Electric,125,58,58,76,76,67,2,FALSE\\n172,Pichu,Electric,,20,40,15,35,35,60,2,FALSE\\n173,Cleffa,Fairy,,50,25,28,45,55,15,2,FALSE\\n174,Igglybuff,Normal,Fairy,90,30,15,40,20,15,2,FALSE\\n175,Togepi,Fairy,,35,20,65,40,65,20,2,FALSE\\n176,Togetic,Fairy,Flying,55,40,85,80,105,40,2,FALSE\\n177,Natu,Psychic,Flying,40,50,45,70,45,70,2,FALSE\\n178,Xatu,Psychic,Flying,65,75,70,95,70,95,2,FALSE\\n179,Mareep,Electric,,55,40,40,65,45,35,2,FALSE\\n180,Flaaffy,Electric,,70,55,55,80,60,45,2,FALSE\\n181,Ampharos,Electric,,90,75,85,115,90,55,2,FALSE\\n181,AmpharosMega Ampharos,Electric,Dragon,90,95,105,165,110,45,2,FALSE\\n182,Bellossom,Grass,,75,80,95,90,100,50,2,FALSE\\n183,Marill,Water,Fairy,70,20,50,20,50,40,2,FALSE\\n184,Azumarill,Water,Fairy,100,50,80,60,80,50,2,FALSE\\n185,Sudowoodo,Rock,,70,100,115,30,65,30,2,FALSE\\n186,Politoed,Water,,90,75,75,90,100,70,2,FALSE\\n187,Hoppip,Grass,Flying,35,35,40,35,55,50,2,FALSE\\n188,Skiploom,Grass,Flying,55,45,50,45,65,80,2,FALSE\\n189,Jumpluff,Grass,Flying,75,55,70,55,95,110,2,FALSE\\n190,Aipom,Normal,,55,70,55,40,55,85,2,FALSE\\n191,Sunkern,Grass,,30,30,30,30,30,30,2,FALSE\\n192,Sunflora,Grass,,75,75,55,105,85,30,2,FALSE\\n193,Yanma,Bug,Flying,65,65,45,75,45,95,2,FALSE\\n194,Wooper,Water,Ground,55,45,45,25,25,15,2,FALSE\\n195,Quagsire,Water,Ground,95,85,85,65,65,35,2,FALSE\\n196,Espeon,Psychic,,65,65,60,130,95,110,2,FALSE\\n197,Umbreon,Dark,,95,65,110,60,130,65,2,FALSE\\n198,Murkrow,Dark,Flying,60,85,42,85,42,91,2,FALSE\\n199,Slowking,Water,Psychic,95,75,80,100,110,30,2,FALSE\\n200,Misdreavus,Ghost,,60,60,60,85,85,85,2,FALSE\\n201,Unown,Psychic,,48,72,48,72,48,48,2,FALSE\\n202,Wobbuffet,Psychic,,190,33,58,33,58,33,2,FALSE\\n203,Girafarig,Normal,Psychic,70,80,65,90,65,85,2,FALSE\\n204,Pineco,Bug,,50,65,90,35,35,15,2,FALSE\\n205,Forretress,Bug,Steel,75,90,140,60,60,40,2,FALSE\\n206,Dunsparce,Normal,,100,70,70,65,65,45,2,FALSE\\n207,Gligar,Ground,Flying,65,75,105,35,65,85,2,FALSE\\n208,Steelix,Steel,Ground,75,85,200,55,65,30,2,FALSE\\n208,SteelixMega Steelix,Steel,Ground,75,125,230,55,95,30,2,FALSE\\n209,Snubbull,Fairy,,60,80,50,40,40,30,2,FALSE\\n210,Granbull,Fairy,,90,120,75,60,60,45,2,FALSE\\n211,Qwilfish,Water,Poison,65,95,75,55,55,85,2,FALSE\\n212,Scizor,Bug,Steel,70,130,100,55,80,65,2,FALSE\\n212,ScizorMega Scizor,Bug,Steel,70,150,140,65,100,75,2,FALSE\\n213,Shuckle,Bug,Rock,20,10,230,10,230,5,2,FALSE\\n214,Heracross,Bug,Fighting,80,125,75,40,95,85,2,FALSE\\n214,HeracrossMega Heracross,Bug,Fighting,80,185,115,40,105,75,2,FALSE\\n215,Sneasel,Dark,Ice,55,95,55,35,75,115,2,FALSE\\n216,Teddiursa,Normal,,60,80,50,50,50,40,2,FALSE\\n217,Ursaring,Normal,,90,130,75,75,75,55,2,FALSE\\n218,Slugma,Fire,,40,40,40,70,40,20,2,FALSE\\n219,Magcargo,Fire,Rock,50,50,120,80,80,30,2,FALSE\\n220,Swinub,Ice,Ground,50,50,40,30,30,50,2,FALSE\\n221,Piloswine,Ice,Ground,100,100,80,60,60,50,2,FALSE\\n222,Corsola,Water,Rock,55,55,85,65,85,35,2,FALSE\\n223,Remoraid,Water,,35,65,35,65,35,65,2,FALSE\\n224,Octillery,Water,,75,105,75,105,75,45,2,FALSE\\n225,Delibird,Ice,Flying,45,55,45,65,45,75,2,FALSE\\n226,Mantine,Water,Flying,65,40,70,80,140,70,2,FALSE\\n227,Skarmory,Steel,Flying,65,80,140,40,70,70,2,FALSE\\n228,Houndour,Dark,Fire,45,60,30,80,50,65,2,FALSE\\n229,Houndoom,Dark,Fire,75,90,50,110,80,95,2,FALSE\\n229,HoundoomMega Houndoom,Dark,Fire,75,90,90,140,90,115,2,FALSE\\n230,Kingdra,Water,Dragon,75,95,95,95,95,85,2,FALSE\\n231,Phanpy,Ground,,90,60,60,40,40,40,2,FALSE\\n232,Donphan,Ground,,90,120,120,60,60,50,2,FALSE\\n233,Porygon2,Normal,,85,80,90,105,95,60,2,FALSE\\n234,Stantler,Normal,,73,95,62,85,65,85,2,FALSE\\n235,Smeargle,Normal,,55,20,35,20,45,75,2,FALSE\\n236,Tyrogue,Fighting,,35,35,35,35,35,35,2,FALSE\\n237,Hitmontop,Fighting,,50,95,95,35,110,70,2,FALSE\\n238,Smoochum,Ice,Psychic,45,30,15,85,65,65,2,FALSE\\n239,Elekid,Electric,,45,63,37,65,55,95,2,FALSE\\n240,Magby,Fire,,45,75,37,70,55,83,2,FALSE\\n241,Miltank,Normal,,95,80,105,40,70,100,2,FALSE\\n242,Blissey,Normal,,255,10,10,75,135,55,2,FALSE\\n243,Raikou,Electric,,90,85,75,115,100,115,2,TRUE\\n244,Entei,Fire,,115,115,85,90,75,100,2,TRUE\\n245,Suicune,Water,,100,75,115,90,115,85,2,TRUE\\n246,Larvitar,Rock,Ground,50,64,50,45,50,41,2,FALSE\\n247,Pupitar,Rock,Ground,70,84,70,65,70,51,2,FALSE\\n248,Tyranitar,Rock,Dark,100,134,110,95,100,61,2,FALSE\\n248,TyranitarMega Tyranitar,Rock,Dark,100,164,150,95,120,71,2,FALSE\\n249,Lugia,Psychic,Flying,106,90,130,90,154,110,2,TRUE\\n250,Ho-oh,Fire,Flying,106,130,90,110,154,90,2,TRUE\\n251,Celebi,Psychic,Grass,100,100,100,100,100,100,2,FALSE\\n252,Treecko,Grass,,40,45,35,65,55,70,3,FALSE\\n253,Grovyle,Grass,,50,65,45,85,65,95,3,FALSE\\n254,Sceptile,Grass,,70,85,65,105,85,120,3,FALSE\\n254,SceptileMega Sceptile,Grass,Dragon,70,110,75,145,85,145,3,FALSE\\n255,Torchic,Fire,,45,60,40,70,50,45,3,FALSE\\n256,Combusken,Fire,Fighting,60,85,60,85,60,55,3,FALSE\\n257,Blaziken,Fire,Fighting,80,120,70,110,70,80,3,FALSE\\n257,BlazikenMega Blaziken,Fire,Fighting,80,160,80,130,80,100,3,FALSE\\n258,Mudkip,Water,,50,70,50,50,50,40,3,FALSE\\n259,Marshtomp,Water,Ground,70,85,70,60,70,50,3,FALSE\\n260,Swampert,Water,Ground,100,110,90,85,90,60,3,FALSE\\n260,SwampertMega Swampert,Water,Ground,100,150,110,95,110,70,3,FALSE\\n261,Poochyena,Dark,,35,55,35,30,30,35,3,FALSE\\n262,Mightyena,Dark,,70,90,70,60,60,70,3,FALSE\\n263,Zigzagoon,Normal,,38,30,41,30,41,60,3,FALSE\\n264,Linoone,Normal,,78,70,61,50,61,100,3,FALSE\\n265,Wurmple,Bug,,45,45,35,20,30,20,3,FALSE\\n266,Silcoon,Bug,,50,35,55,25,25,15,3,FALSE\\n267,Beautifly,Bug,Flying,60,70,50,100,50,65,3,FALSE\\n268,Cascoon,Bug,,50,35,55,25,25,15,3,FALSE\\n269,Dustox,Bug,Poison,60,50,70,50,90,65,3,FALSE\\n270,Lotad,Water,Grass,40,30,30,40,50,30,3,FALSE\\n271,Lombre,Water,Grass,60,50,50,60,70,50,3,FALSE\\n272,Ludicolo,Water,Grass,80,70,70,90,100,70,3,FALSE\\n273,Seedot,Grass,,40,40,50,30,30,30,3,FALSE\\n274,Nuzleaf,Grass,Dark,70,70,40,60,40,60,3,FALSE\\n275,Shiftry,Grass,Dark,90,100,60,90,60,80,3,FALSE\\n276,Taillow,Normal,Flying,40,55,30,30,30,85,3,FALSE\\n277,Swellow,Normal,Flying,60,85,60,50,50,125,3,FALSE\\n278,Wingull,Water,Flying,40,30,30,55,30,85,3,FALSE\\n279,Pelipper,Water,Flying,60,50,100,85,70,65,3,FALSE\\n280,Ralts,Psychic,Fairy,28,25,25,45,35,40,3,FALSE\\n281,Kirlia,Psychic,Fairy,38,35,35,65,55,50,3,FALSE\\n282,Gardevoir,Psychic,Fairy,68,65,65,125,115,80,3,FALSE\\n282,GardevoirMega Gardevoir,Psychic,Fairy,68,85,65,165,135,100,3,FALSE\\n283,Surskit,Bug,Water,40,30,32,50,52,65,3,FALSE\\n284,Masquerain,Bug,Flying,70,60,62,80,82,60,3,FALSE\\n285,Shroomish,Grass,,60,40,60,40,60,35,3,FALSE\\n286,Breloom,Grass,Fighting,60,130,80,60,60,70,3,FALSE\\n287,Slakoth,Normal,,60,60,60,35,35,30,3,FALSE\\n288,Vigoroth,Normal,,80,80,80,55,55,90,3,FALSE\\n289,Slaking,Normal,,150,160,100,95,65,100,3,FALSE\\n290,Nincada,Bug,Ground,31,45,90,30,30,40,3,FALSE\\n291,Ninjask,Bug,Flying,61,90,45,50,50,160,3,FALSE\\n292,Shedinja,Bug,Ghost,1,90,45,30,30,40,3,FALSE\\n293,Whismur,Normal,,64,51,23,51,23,28,3,FALSE\\n294,Loudred,Normal,,84,71,43,71,43,48,3,FALSE\\n295,Exploud,Normal,,104,91,63,91,73,68,3,FALSE\\n296,Makuhita,Fighting,,72,60,30,20,30,25,3,FALSE\\n297,Hariyama,Fighting,,144,120,60,40,60,50,3,FALSE\\n298,Azurill,Normal,Fairy,50,20,40,20,40,20,3,FALSE\\n299,Nosepass,Rock,,30,45,135,45,90,30,3,FALSE\\n300,Skitty,Normal,,50,45,45,35,35,50,3,FALSE\\n301,Delcatty,Normal,,70,65,65,55,55,70,3,FALSE\\n302,Sableye,Dark,Ghost,50,75,75,65,65,50,3,FALSE\\n302,SableyeMega Sableye,Dark,Ghost,50,85,125,85,115,20,3,FALSE\\n303,Mawile,Steel,Fairy,50,85,85,55,55,50,3,FALSE\\n303,MawileMega Mawile,Steel,Fairy,50,105,125,55,95,50,3,FALSE\\n304,Aron,Steel,Rock,50,70,100,40,40,30,3,FALSE\\n305,Lairon,Steel,Rock,60,90,140,50,50,40,3,FALSE\\n306,Aggron,Steel,Rock,70,110,180,60,60,50,3,FALSE\\n306,AggronMega Aggron,Steel,,70,140,230,60,80,50,3,FALSE\\n307,Meditite,Fighting,Psychic,30,40,55,40,55,60,3,FALSE\\n308,Medicham,Fighting,Psychic,60,60,75,60,75,80,3,FALSE\\n308,MedichamMega Medicham,Fighting,Psychic,60,100,85,80,85,100,3,FALSE\\n309,Electrike,Electric,,40,45,40,65,40,65,3,FALSE\\n310,Manectric,Electric,,70,75,60,105,60,105,3,FALSE\\n310,ManectricMega Manectric,Electric,,70,75,80,135,80,135,3,FALSE\\n311,Plusle,Electric,,60,50,40,85,75,95,3,FALSE\\n312,Minun,Electric,,60,40,50,75,85,95,3,FALSE\\n313,Volbeat,Bug,,65,73,55,47,75,85,3,FALSE\\n314,Illumise,Bug,,65,47,55,73,75,85,3,FALSE\\n315,Roselia,Grass,Poison,50,60,45,100,80,65,3,FALSE\\n316,Gulpin,Poison,,70,43,53,43,53,40,3,FALSE\\n317,Swalot,Poison,,100,73,83,73,83,55,3,FALSE\\n318,Carvanha,Water,Dark,45,90,20,65,20,65,3,FALSE\\n319,Sharpedo,Water,Dark,70,120,40,95,40,95,3,FALSE\\n319,SharpedoMega Sharpedo,Water,Dark,70,140,70,110,65,105,3,FALSE\\n320,Wailmer,Water,,130,70,35,70,35,60,3,FALSE\\n321,Wailord,Water,,170,90,45,90,45,60,3,FALSE\\n322,Numel,Fire,Ground,60,60,40,65,45,35,3,FALSE\\n323,Camerupt,Fire,Ground,70,100,70,105,75,40,3,FALSE\\n323,CameruptMega Camerupt,Fire,Ground,70,120,100,145,105,20,3,FALSE\\n324,Torkoal,Fire,,70,85,140,85,70,20,3,FALSE\\n325,Spoink,Psychic,,60,25,35,70,80,60,3,FALSE\\n326,Grumpig,Psychic,,80,45,65,90,110,80,3,FALSE\\n327,Spinda,Normal,,60,60,60,60,60,60,3,FALSE\\n328,Trapinch,Ground,,45,100,45,45,45,10,3,FALSE\\n329,Vibrava,Ground,Dragon,50,70,50,50,50,70,3,FALSE\\n330,Flygon,Ground,Dragon,80,100,80,80,80,100,3,FALSE\\n331,Cacnea,Grass,,50,85,40,85,40,35,3,FALSE\\n332,Cacturne,Grass,Dark,70,115,60,115,60,55,3,FALSE\\n333,Swablu,Normal,Flying,45,40,60,40,75,50,3,FALSE\\n334,Altaria,Dragon,Flying,75,70,90,70,105,80,3,FALSE\\n334,AltariaMega Altaria,Dragon,Fairy,75,110,110,110,105,80,3,FALSE\\n335,Zangoose,Normal,,73,115,60,60,60,90,3,FALSE\\n336,Seviper,Poison,,73,100,60,100,60,65,3,FALSE\\n337,Lunatone,Rock,Psychic,70,55,65,95,85,70,3,FALSE\\n338,Solrock,Rock,Psychic,70,95,85,55,65,70,3,FALSE\\n339,Barboach,Water,Ground,50,48,43,46,41,60,3,FALSE\\n340,Whiscash,Water,Ground,110,78,73,76,71,60,3,FALSE\\n341,Corphish,Water,,43,80,65,50,35,35,3,FALSE\\n342,Crawdaunt,Water,Dark,63,120,85,90,55,55,3,FALSE\\n343,Baltoy,Ground,Psychic,40,40,55,40,70,55,3,FALSE\\n344,Claydol,Ground,Psychic,60,70,105,70,120,75,3,FALSE\\n345,Lileep,Rock,Grass,66,41,77,61,87,23,3,FALSE\\n346,Cradily,Rock,Grass,86,81,97,81,107,43,3,FALSE\\n347,Anorith,Rock,Bug,45,95,50,40,50,75,3,FALSE\\n348,Armaldo,Rock,Bug,75,125,100,70,80,45,3,FALSE\\n349,Feebas,Water,,20,15,20,10,55,80,3,FALSE\\n350,Milotic,Water,,95,60,79,100,125,81,3,FALSE\\n351,Castform,Normal,,70,70,70,70,70,70,3,FALSE\\n352,Kecleon,Normal,,60,90,70,60,120,40,3,FALSE\\n353,Shuppet,Ghost,,44,75,35,63,33,45,3,FALSE\\n354,Banette,Ghost,,64,115,65,83,63,65,3,FALSE\\n354,BanetteMega Banette,Ghost,,64,165,75,93,83,75,3,FALSE\\n355,Duskull,Ghost,,20,40,90,30,90,25,3,FALSE\\n356,Dusclops,Ghost,,40,70,130,60,130,25,3,FALSE\\n357,Tropius,Grass,Flying,99,68,83,72,87,51,3,FALSE\\n358,Chimecho,Psychic,,65,50,70,95,80,65,3,FALSE\\n359,Absol,Dark,,65,130,60,75,60,75,3,FALSE\\n359,AbsolMega Absol,Dark,,65,150,60,115,60,115,3,FALSE\\n360,Wynaut,Psychic,,95,23,48,23,48,23,3,FALSE\\n361,Snorunt,Ice,,50,50,50,50,50,50,3,FALSE\\n362,Glalie,Ice,,80,80,80,80,80,80,3,FALSE\\n362,GlalieMega Glalie,Ice,,80,120,80,120,80,100,3,FALSE\\n363,Spheal,Ice,Water,70,40,50,55,50,25,3,FALSE\\n364,Sealeo,Ice,Water,90,60,70,75,70,45,3,FALSE\\n365,Walrein,Ice,Water,110,80,90,95,90,65,3,FALSE\\n366,Clamperl,Water,,35,64,85,74,55,32,3,FALSE\\n367,Huntail,Water,,55,104,105,94,75,52,3,FALSE\\n368,Gorebyss,Water,,55,84,105,114,75,52,3,FALSE\\n369,Relicanth,Water,Rock,100,90,130,45,65,55,3,FALSE\\n370,Luvdisc,Water,,43,30,55,40,65,97,3,FALSE\\n371,Bagon,Dragon,,45,75,60,40,30,50,3,FALSE\\n372,Shelgon,Dragon,,65,95,100,60,50,50,3,FALSE\\n373,Salamence,Dragon,Flying,95,135,80,110,80,100,3,FALSE\\n373,SalamenceMega Salamence,Dragon,Flying,95,145,130,120,90,120,3,FALSE\\n374,Beldum,Steel,Psychic,40,55,80,35,60,30,3,FALSE\\n375,Metang,Steel,Psychic,60,75,100,55,80,50,3,FALSE\\n376,Metagross,Steel,Psychic,80,135,130,95,90,70,3,FALSE\\n376,MetagrossMega Metagross,Steel,Psychic,80,145,150,105,110,110,3,FALSE\\n377,Regirock,Rock,,80,100,200,50,100,50,3,TRUE\\n378,Regice,Ice,,80,50,100,100,200,50,3,TRUE\\n379,Registeel,Steel,,80,75,150,75,150,50,3,TRUE\\n380,Latias,Dragon,Psychic,80,80,90,110,130,110,3,TRUE\\n380,LatiasMega Latias,Dragon,Psychic,80,100,120,140,150,110,3,TRUE\\n381,Latios,Dragon,Psychic,80,90,80,130,110,110,3,TRUE\\n381,LatiosMega Latios,Dragon,Psychic,80,130,100,160,120,110,3,TRUE\\n382,Kyogre,Water,,100,100,90,150,140,90,3,TRUE\\n382,KyogrePrimal Kyogre,Water,,100,150,90,180,160,90,3,TRUE\\n383,Groudon,Ground,,100,150,140,100,90,90,3,TRUE\\n383,GroudonPrimal Groudon,Ground,Fire,100,180,160,150,90,90,3,TRUE\\n384,Rayquaza,Dragon,Flying,105,150,90,150,90,95,3,TRUE\\n384,RayquazaMega Rayquaza,Dragon,Flying,105,180,100,180,100,115,3,TRUE\\n385,Jirachi,Steel,Psychic,100,100,100,100,100,100,3,TRUE\\n386,DeoxysNormal Forme,Psychic,,50,150,50,150,50,150,3,TRUE\\n386,DeoxysAttack Forme,Psychic,,50,180,20,180,20,150,3,TRUE\\n386,DeoxysDefense Forme,Psychic,,50,70,160,70,160,90,3,TRUE\\n386,DeoxysSpeed Forme,Psychic,,50,95,90,95,90,180,3,TRUE\\n387,Turtwig,Grass,,55,68,64,45,55,31,4,FALSE\\n388,Grotle,Grass,,75,89,85,55,65,36,4,FALSE\\n389,Torterra,Grass,Ground,95,109,105,75,85,56,4,FALSE\\n390,Chimchar,Fire,,44,58,44,58,44,61,4,FALSE\\n391,Monferno,Fire,Fighting,64,78,52,78,52,81,4,FALSE\\n392,Infernape,Fire,Fighting,76,104,71,104,71,108,4,FALSE\\n393,Piplup,Water,,53,51,53,61,56,40,4,FALSE\\n394,Prinplup,Water,,64,66,68,81,76,50,4,FALSE\\n395,Empoleon,Water,Steel,84,86,88,111,101,60,4,FALSE\\n396,Starly,Normal,Flying,40,55,30,30,30,60,4,FALSE\\n397,Staravia,Normal,Flying,55,75,50,40,40,80,4,FALSE\\n398,Staraptor,Normal,Flying,85,120,70,50,60,100,4,FALSE\\n399,Bidoof,Normal,,59,45,40,35,40,31,4,FALSE\\n400,Bibarel,Normal,Water,79,85,60,55,60,71,4,FALSE\\n401,Kricketot,Bug,,37,25,41,25,41,25,4,FALSE\\n402,Kricketune,Bug,,77,85,51,55,51,65,4,FALSE\\n403,Shinx,Electric,,45,65,34,40,34,45,4,FALSE\\n404,Luxio,Electric,,60,85,49,60,49,60,4,FALSE\\n405,Luxray,Electric,,80,120,79,95,79,70,4,FALSE\\n406,Budew,Grass,Poison,40,30,35,50,70,55,4,FALSE\\n407,Roserade,Grass,Poison,60,70,65,125,105,90,4,FALSE\\n408,Cranidos,Rock,,67,125,40,30,30,58,4,FALSE\\n409,Rampardos,Rock,,97,165,60,65,50,58,4,FALSE\\n410,Shieldon,Rock,Steel,30,42,118,42,88,30,4,FALSE\\n411,Bastiodon,Rock,Steel,60,52,168,47,138,30,4,FALSE\\n412,Burmy,Bug,,40,29,45,29,45,36,4,FALSE\\n413,WormadamPlant Cloak,Bug,Grass,60,59,85,79,105,36,4,FALSE\\n413,WormadamSandy Cloak,Bug,Ground,60,79,105,59,85,36,4,FALSE\\n413,WormadamTrash Cloak,Bug,Steel,60,69,95,69,95,36,4,FALSE\\n414,Mothim,Bug,Flying,70,94,50,94,50,66,4,FALSE\\n415,Combee,Bug,Flying,30,30,42,30,42,70,4,FALSE\\n416,Vespiquen,Bug,Flying,70,80,102,80,102,40,4,FALSE\\n417,Pachirisu,Electric,,60,45,70,45,90,95,4,FALSE\\n418,Buizel,Water,,55,65,35,60,30,85,4,FALSE\\n419,Floatzel,Water,,85,105,55,85,50,115,4,FALSE\\n420,Cherubi,Grass,,45,35,45,62,53,35,4,FALSE\\n421,Cherrim,Grass,,70,60,70,87,78,85,4,FALSE\\n422,Shellos,Water,,76,48,48,57,62,34,4,FALSE\\n423,Gastrodon,Water,Ground,111,83,68,92,82,39,4,FALSE\\n424,Ambipom,Normal,,75,100,66,60,66,115,4,FALSE\\n425,Drifloon,Ghost,Flying,90,50,34,60,44,70,4,FALSE\\n426,Drifblim,Ghost,Flying,150,80,44,90,54,80,4,FALSE\\n427,Buneary,Normal,,55,66,44,44,56,85,4,FALSE\\n428,Lopunny,Normal,,65,76,84,54,96,105,4,FALSE\\n428,LopunnyMega Lopunny,Normal,Fighting,65,136,94,54,96,135,4,FALSE\\n429,Mismagius,Ghost,,60,60,60,105,105,105,4,FALSE\\n430,Honchkrow,Dark,Flying,100,125,52,105,52,71,4,FALSE\\n431,Glameow,Normal,,49,55,42,42,37,85,4,FALSE\\n432,Purugly,Normal,,71,82,64,64,59,112,4,FALSE\\n433,Chingling,Psychic,,45,30,50,65,50,45,4,FALSE\\n434,Stunky,Poison,Dark,63,63,47,41,41,74,4,FALSE\\n435,Skuntank,Poison,Dark,103,93,67,71,61,84,4,FALSE\\n436,Bronzor,Steel,Psychic,57,24,86,24,86,23,4,FALSE\\n437,Bronzong,Steel,Psychic,67,89,116,79,116,33,4,FALSE\\n438,Bonsly,Rock,,50,80,95,10,45,10,4,FALSE\\n439,Mime Jr.,Psychic,Fairy,20,25,45,70,90,60,4,FALSE\\n440,Happiny,Normal,,100,5,5,15,65,30,4,FALSE\\n441,Chatot,Normal,Flying,76,65,45,92,42,91,4,FALSE\\n442,Spiritomb,Ghost,Dark,50,92,108,92,108,35,4,FALSE\\n443,Gible,Dragon,Ground,58,70,45,40,45,42,4,FALSE\\n444,Gabite,Dragon,Ground,68,90,65,50,55,82,4,FALSE\\n445,Garchomp,Dragon,Ground,108,130,95,80,85,102,4,FALSE\\n445,GarchompMega Garchomp,Dragon,Ground,108,170,115,120,95,92,4,FALSE\\n446,Munchlax,Normal,,135,85,40,40,85,5,4,FALSE\\n447,Riolu,Fighting,,40,70,40,35,40,60,4,FALSE\\n448,Lucario,Fighting,Steel,70,110,70,115,70,90,4,FALSE\\n448,LucarioMega Lucario,Fighting,Steel,70,145,88,140,70,112,4,FALSE\\n449,Hippopotas,Ground,,68,72,78,38,42,32,4,FALSE\\n450,Hippowdon,Ground,,108,112,118,68,72,47,4,FALSE\\n451,Skorupi,Poison,Bug,40,50,90,30,55,65,4,FALSE\\n452,Drapion,Poison,Dark,70,90,110,60,75,95,4,FALSE\\n453,Croagunk,Poison,Fighting,48,61,40,61,40,50,4,FALSE\\n454,Toxicroak,Poison,Fighting,83,106,65,86,65,85,4,FALSE\\n455,Carnivine,Grass,,74,100,72,90,72,46,4,FALSE\\n456,Finneon,Water,,49,49,56,49,61,66,4,FALSE\\n457,Lumineon,Water,,69,69,76,69,86,91,4,FALSE\\n458,Mantyke,Water,Flying,45,20,50,60,120,50,4,FALSE\\n459,Snover,Grass,Ice,60,62,50,62,60,40,4,FALSE\\n460,Abomasnow,Grass,Ice,90,92,75,92,85,60,4,FALSE\\n460,AbomasnowMega Abomasnow,Grass,Ice,90,132,105,132,105,30,4,FALSE\\n461,Weavile,Dark,Ice,70,120,65,45,85,125,4,FALSE\\n462,Magnezone,Electric,Steel,70,70,115,130,90,60,4,FALSE\\n463,Lickilicky,Normal,,110,85,95,80,95,50,4,FALSE\\n464,Rhyperior,Ground,Rock,115,140,130,55,55,40,4,FALSE\\n465,Tangrowth,Grass,,100,100,125,110,50,50,4,FALSE\\n466,Electivire,Electric,,75,123,67,95,85,95,4,FALSE\\n467,Magmortar,Fire,,75,95,67,125,95,83,4,FALSE\\n468,Togekiss,Fairy,Flying,85,50,95,120,115,80,4,FALSE\\n469,Yanmega,Bug,Flying,86,76,86,116,56,95,4,FALSE\\n470,Leafeon,Grass,,65,110,130,60,65,95,4,FALSE\\n471,Glaceon,Ice,,65,60,110,130,95,65,4,FALSE\\n472,Gliscor,Ground,Flying,75,95,125,45,75,95,4,FALSE\\n473,Mamoswine,Ice,Ground,110,130,80,70,60,80,4,FALSE\\n474,Porygon-Z,Normal,,85,80,70,135,75,90,4,FALSE\\n475,Gallade,Psychic,Fighting,68,125,65,65,115,80,4,FALSE\\n475,GalladeMega Gallade,Psychic,Fighting,68,165,95,65,115,110,4,FALSE\\n476,Probopass,Rock,Steel,60,55,145,75,150,40,4,FALSE\\n477,Dusknoir,Ghost,,45,100,135,65,135,45,4,FALSE\\n478,Froslass,Ice,Ghost,70,80,70,80,70,110,4,FALSE\\n479,Rotom,Electric,Ghost,50,50,77,95,77,91,4,FALSE\\n479,RotomHeat Rotom,Electric,Fire,50,65,107,105,107,86,4,FALSE\\n479,RotomWash Rotom,Electric,Water,50,65,107,105,107,86,4,FALSE\\n479,RotomFrost Rotom,Electric,Ice,50,65,107,105,107,86,4,FALSE\\n479,RotomFan Rotom,Electric,Flying,50,65,107,105,107,86,4,FALSE\\n479,RotomMow Rotom,Electric,Grass,50,65,107,105,107,86,4,FALSE\\n480,Uxie,Psychic,,75,75,130,75,130,95,4,TRUE\\n481,Mesprit,Psychic,,80,105,105,105,105,80,4,TRUE\\n482,Azelf,Psychic,,75,125,70,125,70,115,4,TRUE\\n483,Dialga,Steel,Dragon,100,120,120,150,100,90,4,TRUE\\n484,Palkia,Water,Dragon,90,120,100,150,120,100,4,TRUE\\n485,Heatran,Fire,Steel,91,90,106,130,106,77,4,TRUE\\n486,Regigigas,Normal,,110,160,110,80,110,100,4,TRUE\\n487,GiratinaAltered Forme,Ghost,Dragon,150,100,120,100,120,90,4,TRUE\\n487,GiratinaOrigin Forme,Ghost,Dragon,150,120,100,120,100,90,4,TRUE\\n488,Cresselia,Psychic,,120,70,120,75,130,85,4,FALSE\\n489,Phione,Water,,80,80,80,80,80,80,4,FALSE\\n490,Manaphy,Water,,100,100,100,100,100,100,4,FALSE\\n491,Darkrai,Dark,,70,90,90,135,90,125,4,TRUE\\n492,ShayminLand Forme,Grass,,100,100,100,100,100,100,4,TRUE\\n492,ShayminSky Forme,Grass,Flying,100,103,75,120,75,127,4,TRUE\\n493,Arceus,Normal,,120,120,120,120,120,120,4,TRUE\\n494,Victini,Psychic,Fire,100,100,100,100,100,100,5,TRUE\\n495,Snivy,Grass,,45,45,55,45,55,63,5,FALSE\\n496,Servine,Grass,,60,60,75,60,75,83,5,FALSE\\n497,Serperior,Grass,,75,75,95,75,95,113,5,FALSE\\n498,Tepig,Fire,,65,63,45,45,45,45,5,FALSE\\n499,Pignite,Fire,Fighting,90,93,55,70,55,55,5,FALSE\\n500,Emboar,Fire,Fighting,110,123,65,100,65,65,5,FALSE\\n501,Oshawott,Water,,55,55,45,63,45,45,5,FALSE\\n502,Dewott,Water,,75,75,60,83,60,60,5,FALSE\\n503,Samurott,Water,,95,100,85,108,70,70,5,FALSE\\n504,Patrat,Normal,,45,55,39,35,39,42,5,FALSE\\n505,Watchog,Normal,,60,85,69,60,69,77,5,FALSE\\n506,Lillipup,Normal,,45,60,45,25,45,55,5,FALSE\\n507,Herdier,Normal,,65,80,65,35,65,60,5,FALSE\\n508,Stoutland,Normal,,85,110,90,45,90,80,5,FALSE\\n509,Purrloin,Dark,,41,50,37,50,37,66,5,FALSE\\n510,Liepard,Dark,,64,88,50,88,50,106,5,FALSE\\n511,Pansage,Grass,,50,53,48,53,48,64,5,FALSE\\n512,Simisage,Grass,,75,98,63,98,63,101,5,FALSE\\n513,Pansear,Fire,,50,53,48,53,48,64,5,FALSE\\n514,Simisear,Fire,,75,98,63,98,63,101,5,FALSE\\n515,Panpour,Water,,50,53,48,53,48,64,5,FALSE\\n516,Simipour,Water,,75,98,63,98,63,101,5,FALSE\\n517,Munna,Psychic,,76,25,45,67,55,24,5,FALSE\\n518,Musharna,Psychic,,116,55,85,107,95,29,5,FALSE\\n519,Pidove,Normal,Flying,50,55,50,36,30,43,5,FALSE\\n520,Tranquill,Normal,Flying,62,77,62,50,42,65,5,FALSE\\n521,Unfezant,Normal,Flying,80,115,80,65,55,93,5,FALSE\\n522,Blitzle,Electric,,45,60,32,50,32,76,5,FALSE\\n523,Zebstrika,Electric,,75,100,63,80,63,116,5,FALSE\\n524,Roggenrola,Rock,,55,75,85,25,25,15,5,FALSE\\n525,Boldore,Rock,,70,105,105,50,40,20,5,FALSE\\n526,Gigalith,Rock,,85,135,130,60,80,25,5,FALSE\\n527,Woobat,Psychic,Flying,55,45,43,55,43,72,5,FALSE\\n528,Swoobat,Psychic,Flying,67,57,55,77,55,114,5,FALSE\\n529,Drilbur,Ground,,60,85,40,30,45,68,5,FALSE\\n530,Excadrill,Ground,Steel,110,135,60,50,65,88,5,FALSE\\n531,Audino,Normal,,103,60,86,60,86,50,5,FALSE\\n531,AudinoMega Audino,Normal,Fairy,103,60,126,80,126,50,5,FALSE\\n532,Timburr,Fighting,,75,80,55,25,35,35,5,FALSE\\n533,Gurdurr,Fighting,,85,105,85,40,50,40,5,FALSE\\n534,Conkeldurr,Fighting,,105,140,95,55,65,45,5,FALSE\\n535,Tympole,Water,,50,50,40,50,40,64,5,FALSE\\n536,Palpitoad,Water,Ground,75,65,55,65,55,69,5,FALSE\\n537,Seismitoad,Water,Ground,105,95,75,85,75,74,5,FALSE\\n538,Throh,Fighting,,120,100,85,30,85,45,5,FALSE\\n539,Sawk,Fighting,,75,125,75,30,75,85,5,FALSE\\n540,Sewaddle,Bug,Grass,45,53,70,40,60,42,5,FALSE\\n541,Swadloon,Bug,Grass,55,63,90,50,80,42,5,FALSE\\n542,Leavanny,Bug,Grass,75,103,80,70,80,92,5,FALSE\\n543,Venipede,Bug,Poison,30,45,59,30,39,57,5,FALSE\\n544,Whirlipede,Bug,Poison,40,55,99,40,79,47,5,FALSE\\n545,Scolipede,Bug,Poison,60,100,89,55,69,112,5,FALSE\\n546,Cottonee,Grass,Fairy,40,27,60,37,50,66,5,FALSE\\n547,Whimsicott,Grass,Fairy,60,67,85,77,75,116,5,FALSE\\n548,Petilil,Grass,,45,35,50,70,50,30,5,FALSE\\n549,Lilligant,Grass,,70,60,75,110,75,90,5,FALSE\\n550,Basculin,Water,,70,92,65,80,55,98,5,FALSE\\n551,Sandile,Ground,Dark,50,72,35,35,35,65,5,FALSE\\n552,Krokorok,Ground,Dark,60,82,45,45,45,74,5,FALSE\\n553,Krookodile,Ground,Dark,95,117,80,65,70,92,5,FALSE\\n554,Darumaka,Fire,,70,90,45,15,45,50,5,FALSE\\n555,DarmanitanStandard Mode,Fire,,105,140,55,30,55,95,5,FALSE\\n555,DarmanitanZen Mode,Fire,Psychic,105,30,105,140,105,55,5,FALSE\\n556,Maractus,Grass,,75,86,67,106,67,60,5,FALSE\\n557,Dwebble,Bug,Rock,50,65,85,35,35,55,5,FALSE\\n558,Crustle,Bug,Rock,70,95,125,65,75,45,5,FALSE\\n559,Scraggy,Dark,Fighting,50,75,70,35,70,48,5,FALSE\\n560,Scrafty,Dark,Fighting,65,90,115,45,115,58,5,FALSE\\n561,Sigilyph,Psychic,Flying,72,58,80,103,80,97,5,FALSE\\n562,Yamask,Ghost,,38,30,85,55,65,30,5,FALSE\\n563,Cofagrigus,Ghost,,58,50,145,95,105,30,5,FALSE\\n564,Tirtouga,Water,Rock,54,78,103,53,45,22,5,FALSE\\n565,Carracosta,Water,Rock,74,108,133,83,65,32,5,FALSE\\n566,Archen,Rock,Flying,55,112,45,74,45,70,5,FALSE\\n567,Archeops,Rock,Flying,75,140,65,112,65,110,5,FALSE\\n568,Trubbish,Poison,,50,50,62,40,62,65,5,FALSE\\n569,Garbodor,Poison,,80,95,82,60,82,75,5,FALSE\\n570,Zorua,Dark,,40,65,40,80,40,65,5,FALSE\\n571,Zoroark,Dark,,60,105,60,120,60,105,5,FALSE\\n572,Minccino,Normal,,55,50,40,40,40,75,5,FALSE\\n573,Cinccino,Normal,,75,95,60,65,60,115,5,FALSE\\n574,Gothita,Psychic,,45,30,50,55,65,45,5,FALSE\\n575,Gothorita,Psychic,,60,45,70,75,85,55,5,FALSE\\n576,Gothitelle,Psychic,,70,55,95,95,110,65,5,FALSE\\n577,Solosis,Psychic,,45,30,40,105,50,20,5,FALSE\\n578,Duosion,Psychic,,65,40,50,125,60,30,5,FALSE\\n579,Reuniclus,Psychic,,110,65,75,125,85,30,5,FALSE\\n580,Ducklett,Water,Flying,62,44,50,44,50,55,5,FALSE\\n581,Swanna,Water,Flying,75,87,63,87,63,98,5,FALSE\\n582,Vanillite,Ice,,36,50,50,65,60,44,5,FALSE\\n583,Vanillish,Ice,,51,65,65,80,75,59,5,FALSE\\n584,Vanilluxe,Ice,,71,95,85,110,95,79,5,FALSE\\n585,Deerling,Normal,Grass,60,60,50,40,50,75,5,FALSE\\n586,Sawsbuck,Normal,Grass,80,100,70,60,70,95,5,FALSE\\n587,Emolga,Electric,Flying,55,75,60,75,60,103,5,FALSE\\n588,Karrablast,Bug,,50,75,45,40,45,60,5,FALSE\\n589,Escavalier,Bug,Steel,70,135,105,60,105,20,5,FALSE\\n590,Foongus,Grass,Poison,69,55,45,55,55,15,5,FALSE\\n591,Amoonguss,Grass,Poison,114,85,70,85,80,30,5,FALSE\\n592,Frillish,Water,Ghost,55,40,50,65,85,40,5,FALSE\\n593,Jellicent,Water,Ghost,100,60,70,85,105,60,5,FALSE\\n594,Alomomola,Water,,165,75,80,40,45,65,5,FALSE\\n595,Joltik,Bug,Electric,50,47,50,57,50,65,5,FALSE\\n596,Galvantula,Bug,Electric,70,77,60,97,60,108,5,FALSE\\n597,Ferroseed,Grass,Steel,44,50,91,24,86,10,5,FALSE\\n598,Ferrothorn,Grass,Steel,74,94,131,54,116,20,5,FALSE\\n599,Klink,Steel,,40,55,70,45,60,30,5,FALSE\\n600,Klang,Steel,,60,80,95,70,85,50,5,FALSE\\n601,Klinklang,Steel,,60,100,115,70,85,90,5,FALSE\\n602,Tynamo,Electric,,35,55,40,45,40,60,5,FALSE\\n603,Eelektrik,Electric,,65,85,70,75,70,40,5,FALSE\\n604,Eelektross,Electric,,85,115,80,105,80,50,5,FALSE\\n605,Elgyem,Psychic,,55,55,55,85,55,30,5,FALSE\\n606,Beheeyem,Psychic,,75,75,75,125,95,40,5,FALSE\\n607,Litwick,Ghost,Fire,50,30,55,65,55,20,5,FALSE\\n608,Lampent,Ghost,Fire,60,40,60,95,60,55,5,FALSE\\n609,Chandelure,Ghost,Fire,60,55,90,145,90,80,5,FALSE\\n610,Axew,Dragon,,46,87,60,30,40,57,5,FALSE\\n611,Fraxure,Dragon,,66,117,70,40,50,67,5,FALSE\\n612,Haxorus,Dragon,,76,147,90,60,70,97,5,FALSE\\n613,Cubchoo,Ice,,55,70,40,60,40,40,5,FALSE\\n614,Beartic,Ice,,95,110,80,70,80,50,5,FALSE\\n615,Cryogonal,Ice,,70,50,30,95,135,105,5,FALSE\\n616,Shelmet,Bug,,50,40,85,40,65,25,5,FALSE\\n617,Accelgor,Bug,,80,70,40,100,60,145,5,FALSE\\n618,Stunfisk,Ground,Electric,109,66,84,81,99,32,5,FALSE\\n619,Mienfoo,Fighting,,45,85,50,55,50,65,5,FALSE\\n620,Mienshao,Fighting,,65,125,60,95,60,105,5,FALSE\\n621,Druddigon,Dragon,,77,120,90,60,90,48,5,FALSE\\n622,Golett,Ground,Ghost,59,74,50,35,50,35,5,FALSE\\n623,Golurk,Ground,Ghost,89,124,80,55,80,55,5,FALSE\\n624,Pawniard,Dark,Steel,45,85,70,40,40,60,5,FALSE\\n625,Bisharp,Dark,Steel,65,125,100,60,70,70,5,FALSE\\n626,Bouffalant,Normal,,95,110,95,40,95,55,5,FALSE\\n627,Rufflet,Normal,Flying,70,83,50,37,50,60,5,FALSE\\n628,Braviary,Normal,Flying,100,123,75,57,75,80,5,FALSE\\n629,Vullaby,Dark,Flying,70,55,75,45,65,60,5,FALSE\\n630,Mandibuzz,Dark,Flying,110,65,105,55,95,80,5,FALSE\\n631,Heatmor,Fire,,85,97,66,105,66,65,5,FALSE\\n632,Durant,Bug,Steel,58,109,112,48,48,109,5,FALSE\\n633,Deino,Dark,Dragon,52,65,50,45,50,38,5,FALSE\\n634,Zweilous,Dark,Dragon,72,85,70,65,70,58,5,FALSE\\n635,Hydreigon,Dark,Dragon,92,105,90,125,90,98,5,FALSE\\n636,Larvesta,Bug,Fire,55,85,55,50,55,60,5,FALSE\\n637,Volcarona,Bug,Fire,85,60,65,135,105,100,5,FALSE\\n638,Cobalion,Steel,Fighting,91,90,129,90,72,108,5,TRUE\\n639,Terrakion,Rock,Fighting,91,129,90,72,90,108,5,TRUE\\n640,Virizion,Grass,Fighting,91,90,72,90,129,108,5,TRUE\\n641,TornadusIncarnate Forme,Flying,,79,115,70,125,80,111,5,TRUE\\n641,TornadusTherian Forme,Flying,,79,100,80,110,90,121,5,TRUE\\n642,ThundurusIncarnate Forme,Electric,Flying,79,115,70,125,80,111,5,TRUE\\n642,ThundurusTherian Forme,Electric,Flying,79,105,70,145,80,101,5,TRUE\\n643,Reshiram,Dragon,Fire,100,120,100,150,120,90,5,TRUE\\n644,Zekrom,Dragon,Electric,100,150,120,120,100,90,5,TRUE\\n645,LandorusIncarnate Forme,Ground,Flying,89,125,90,115,80,101,5,TRUE\\n645,LandorusTherian Forme,Ground,Flying,89,145,90,105,80,91,5,TRUE\\n646,Kyurem,Dragon,Ice,125,130,90,130,90,95,5,TRUE\\n646,KyuremBlack Kyurem,Dragon,Ice,125,170,100,120,90,95,5,TRUE\\n646,KyuremWhite Kyurem,Dragon,Ice,125,120,90,170,100,95,5,TRUE\\n647,KeldeoOrdinary Forme,Water,Fighting,91,72,90,129,90,108,5,FALSE\\n647,KeldeoResolute Forme,Water,Fighting,91,72,90,129,90,108,5,FALSE\\n648,MeloettaAria Forme,Normal,Psychic,100,77,77,128,128,90,5,FALSE\\n648,MeloettaPirouette Forme,Normal,Fighting,100,128,90,77,77,128,5,FALSE\\n649,Genesect,Bug,Steel,71,120,95,120,95,99,5,FALSE\\n650,Chespin,Grass,,56,61,65,48,45,38,6,FALSE\\n651,Quilladin,Grass,,61,78,95,56,58,57,6,FALSE\\n652,Chesnaught,Grass,Fighting,88,107,122,74,75,64,6,FALSE\\n653,Fennekin,Fire,,40,45,40,62,60,60,6,FALSE\\n654,Braixen,Fire,,59,59,58,90,70,73,6,FALSE\\n655,Delphox,Fire,Psychic,75,69,72,114,100,104,6,FALSE\\n656,Froakie,Water,,41,56,40,62,44,71,6,FALSE\\n657,Frogadier,Water,,54,63,52,83,56,97,6,FALSE\\n658,Greninja,Water,Dark,72,95,67,103,71,122,6,FALSE\\n659,Bunnelby,Normal,,38,36,38,32,36,57,6,FALSE\\n660,Diggersby,Normal,Ground,85,56,77,50,77,78,6,FALSE\\n661,Fletchling,Normal,Flying,45,50,43,40,38,62,6,FALSE\\n662,Fletchinder,Fire,Flying,62,73,55,56,52,84,6,FALSE\\n663,Talonflame,Fire,Flying,78,81,71,74,69,126,6,FALSE\\n664,Scatterbug,Bug,,38,35,40,27,25,35,6,FALSE\\n665,Spewpa,Bug,,45,22,60,27,30,29,6,FALSE\\n666,Vivillon,Bug,Flying,80,52,50,90,50,89,6,FALSE\\n667,Litleo,Fire,Normal,62,50,58,73,54,72,6,FALSE\\n668,Pyroar,Fire,Normal,86,68,72,109,66,106,6,FALSE\\n669,Flab\\xc3\\xa9b\\xc3\\xa9,Fairy,,44,38,39,61,79,42,6,FALSE\\n670,Floette,Fairy,,54,45,47,75,98,52,6,FALSE\\n671,Florges,Fairy,,78,65,68,112,154,75,6,FALSE\\n672,Skiddo,Grass,,66,65,48,62,57,52,6,FALSE\\n673,Gogoat,Grass,,123,100,62,97,81,68,6,FALSE\\n674,Pancham,Fighting,,67,82,62,46,48,43,6,FALSE\\n675,Pangoro,Fighting,Dark,95,124,78,69,71,58,6,FALSE\\n676,Furfrou,Normal,,75,80,60,65,90,102,6,FALSE\\n677,Espurr,Psychic,,62,48,54,63,60,68,6,FALSE\\n678,MeowsticMale,Psychic,,74,48,76,83,81,104,6,FALSE\\n678,MeowsticFemale,Psychic,,74,48,76,83,81,104,6,FALSE\\n679,Honedge,Steel,Ghost,45,80,100,35,37,28,6,FALSE\\n680,Doublade,Steel,Ghost,59,110,150,45,49,35,6,FALSE\\n681,AegislashBlade Forme,Steel,Ghost,60,150,50,150,50,60,6,FALSE\\n681,AegislashShield Forme,Steel,Ghost,60,50,150,50,150,60,6,FALSE\\n682,Spritzee,Fairy,,78,52,60,63,65,23,6,FALSE\\n683,Aromatisse,Fairy,,101,72,72,99,89,29,6,FALSE\\n684,Swirlix,Fairy,,62,48,66,59,57,49,6,FALSE\\n685,Slurpuff,Fairy,,82,80,86,85,75,72,6,FALSE\\n686,Inkay,Dark,Psychic,53,54,53,37,46,45,6,FALSE\\n687,Malamar,Dark,Psychic,86,92,88,68,75,73,6,FALSE\\n688,Binacle,Rock,Water,42,52,67,39,56,50,6,FALSE\\n689,Barbaracle,Rock,Water,72,105,115,54,86,68,6,FALSE\\n690,Skrelp,Poison,Water,50,60,60,60,60,30,6,FALSE\\n691,Dragalge,Poison,Dragon,65,75,90,97,123,44,6,FALSE\\n692,Clauncher,Water,,50,53,62,58,63,44,6,FALSE\\n693,Clawitzer,Water,,71,73,88,120,89,59,6,FALSE\\n694,Helioptile,Electric,Normal,44,38,33,61,43,70,6,FALSE\\n695,Heliolisk,Electric,Normal,62,55,52,109,94,109,6,FALSE\\n696,Tyrunt,Rock,Dragon,58,89,77,45,45,48,6,FALSE\\n697,Tyrantrum,Rock,Dragon,82,121,119,69,59,71,6,FALSE\\n698,Amaura,Rock,Ice,77,59,50,67,63,46,6,FALSE\\n699,Aurorus,Rock,Ice,123,77,72,99,92,58,6,FALSE\\n700,Sylveon,Fairy,,95,65,65,110,130,60,6,FALSE\\n701,Hawlucha,Fighting,Flying,78,92,75,74,63,118,6,FALSE\\n702,Dedenne,Electric,Fairy,67,58,57,81,67,101,6,FALSE\\n703,Carbink,Rock,Fairy,50,50,150,50,150,50,6,FALSE\\n704,Goomy,Dragon,,45,50,35,55,75,40,6,FALSE\\n705,Sliggoo,Dragon,,68,75,53,83,113,60,6,FALSE\\n706,Goodra,Dragon,,90,100,70,110,150,80,6,FALSE\\n707,Klefki,Steel,Fairy,57,80,91,80,87,75,6,FALSE\\n708,Phantump,Ghost,Grass,43,70,48,50,60,38,6,FALSE\\n709,Trevenant,Ghost,Grass,85,110,76,65,82,56,6,FALSE\\n710,PumpkabooAverage Size,Ghost,Grass,49,66,70,44,55,51,6,FALSE\\n710,PumpkabooSmall Size,Ghost,Grass,44,66,70,44,55,56,6,FALSE\\n710,PumpkabooLarge Size,Ghost,Grass,54,66,70,44,55,46,6,FALSE\\n710,PumpkabooSuper Size,Ghost,Grass,59,66,70,44,55,41,6,FALSE\\n711,GourgeistAverage Size,Ghost,Grass,65,90,122,58,75,84,6,FALSE\\n711,GourgeistSmall Size,Ghost,Grass,55,85,122,58,75,99,6,FALSE\\n711,GourgeistLarge Size,Ghost,Grass,75,95,122,58,75,69,6,FALSE\\n711,GourgeistSuper Size,Ghost,Grass,85,100,122,58,75,54,6,FALSE\\n712,Bergmite,Ice,,55,69,85,32,35,28,6,FALSE\\n713,Avalugg,Ice,,95,117,184,44,46,28,6,FALSE\\n714,Noibat,Flying,Dragon,40,30,35,45,40,55,6,FALSE\\n715,Noivern,Flying,Dragon,85,70,80,97,80,123,6,FALSE\\n716,Xerneas,Fairy,,126,131,95,131,98,99,6,TRUE\\n717,Yveltal,Dark,Flying,126,131,95,131,98,99,6,TRUE\\n718,Zygarde50% Forme,Dragon,Ground,108,100,121,81,95,95,6,TRUE\\n719,Diancie,Rock,Fairy,50,100,150,100,150,50,6,TRUE\\n719,DiancieMega Diancie,Rock,Fairy,50,160,110,160,110,110,6,TRUE\\n720,HoopaHoopa Confined,Psychic,Ghost,80,110,60,150,130,70,6,TRUE\\n720,HoopaHoopa Unbound,Psychic,Dark,80,160,60,170,130,80,6,TRUE\\n721,Volcanion,Fire,Water,80,110,120,130,90,70,6,TRUE\\n\"}"
            ]
          },
          "metadata": {
            "tags": []
          },
          "execution_count": 8
        }
      ]
    },
    {
      "cell_type": "code",
      "metadata": {
        "id": "DycOVUuzbIZ5",
        "colab_type": "code",
        "outputId": "201e680d-24cb-41fb-e5d0-e5070bf89e4c",
        "colab": {
          "base_uri": "https://localhost:8080/",
          "height": 225
        }
      },
      "source": [
        "#index_col describes which column who want to set the index as\n",
        "#head function denotes printing first n rows of the dataframe, here n=10 in our case\n",
        "\n",
        "pokemon_data = pd.read_csv('pokemon_data.csv',index_col = 0)\n",
        "pokemon_data.head(5)"
      ],
      "execution_count": 112,
      "outputs": [
        {
          "output_type": "execute_result",
          "data": {
            "text/html": [
              "<div>\n",
              "<style scoped>\n",
              "    .dataframe tbody tr th:only-of-type {\n",
              "        vertical-align: middle;\n",
              "    }\n",
              "\n",
              "    .dataframe tbody tr th {\n",
              "        vertical-align: top;\n",
              "    }\n",
              "\n",
              "    .dataframe thead th {\n",
              "        text-align: right;\n",
              "    }\n",
              "</style>\n",
              "<table border=\"1\" class=\"dataframe\">\n",
              "  <thead>\n",
              "    <tr style=\"text-align: right;\">\n",
              "      <th></th>\n",
              "      <th>Name</th>\n",
              "      <th>Type 1</th>\n",
              "      <th>Type 2</th>\n",
              "      <th>HP</th>\n",
              "      <th>Attack</th>\n",
              "      <th>Defense</th>\n",
              "      <th>Sp. Atk</th>\n",
              "      <th>Sp. Def</th>\n",
              "      <th>Speed</th>\n",
              "      <th>Generation</th>\n",
              "      <th>Legendary</th>\n",
              "    </tr>\n",
              "    <tr>\n",
              "      <th>#</th>\n",
              "      <th></th>\n",
              "      <th></th>\n",
              "      <th></th>\n",
              "      <th></th>\n",
              "      <th></th>\n",
              "      <th></th>\n",
              "      <th></th>\n",
              "      <th></th>\n",
              "      <th></th>\n",
              "      <th></th>\n",
              "      <th></th>\n",
              "    </tr>\n",
              "  </thead>\n",
              "  <tbody>\n",
              "    <tr>\n",
              "      <th>1</th>\n",
              "      <td>Bulbasaur</td>\n",
              "      <td>Grass</td>\n",
              "      <td>Poison</td>\n",
              "      <td>45</td>\n",
              "      <td>49</td>\n",
              "      <td>49</td>\n",
              "      <td>65</td>\n",
              "      <td>65</td>\n",
              "      <td>45</td>\n",
              "      <td>1</td>\n",
              "      <td>False</td>\n",
              "    </tr>\n",
              "    <tr>\n",
              "      <th>2</th>\n",
              "      <td>Ivysaur</td>\n",
              "      <td>Grass</td>\n",
              "      <td>Poison</td>\n",
              "      <td>60</td>\n",
              "      <td>62</td>\n",
              "      <td>63</td>\n",
              "      <td>80</td>\n",
              "      <td>80</td>\n",
              "      <td>60</td>\n",
              "      <td>1</td>\n",
              "      <td>False</td>\n",
              "    </tr>\n",
              "    <tr>\n",
              "      <th>3</th>\n",
              "      <td>Venusaur</td>\n",
              "      <td>Grass</td>\n",
              "      <td>Poison</td>\n",
              "      <td>80</td>\n",
              "      <td>82</td>\n",
              "      <td>83</td>\n",
              "      <td>100</td>\n",
              "      <td>100</td>\n",
              "      <td>80</td>\n",
              "      <td>1</td>\n",
              "      <td>False</td>\n",
              "    </tr>\n",
              "    <tr>\n",
              "      <th>3</th>\n",
              "      <td>VenusaurMega Venusaur</td>\n",
              "      <td>Grass</td>\n",
              "      <td>Poison</td>\n",
              "      <td>80</td>\n",
              "      <td>100</td>\n",
              "      <td>123</td>\n",
              "      <td>122</td>\n",
              "      <td>120</td>\n",
              "      <td>80</td>\n",
              "      <td>1</td>\n",
              "      <td>False</td>\n",
              "    </tr>\n",
              "    <tr>\n",
              "      <th>4</th>\n",
              "      <td>Charmander</td>\n",
              "      <td>Fire</td>\n",
              "      <td>NaN</td>\n",
              "      <td>39</td>\n",
              "      <td>52</td>\n",
              "      <td>43</td>\n",
              "      <td>60</td>\n",
              "      <td>50</td>\n",
              "      <td>65</td>\n",
              "      <td>1</td>\n",
              "      <td>False</td>\n",
              "    </tr>\n",
              "  </tbody>\n",
              "</table>\n",
              "</div>"
            ],
            "text/plain": [
              "                    Name Type 1  Type 2  ...  Speed  Generation  Legendary\n",
              "#                                        ...                              \n",
              "1              Bulbasaur  Grass  Poison  ...     45           1      False\n",
              "2                Ivysaur  Grass  Poison  ...     60           1      False\n",
              "3               Venusaur  Grass  Poison  ...     80           1      False\n",
              "3  VenusaurMega Venusaur  Grass  Poison  ...     80           1      False\n",
              "4             Charmander   Fire     NaN  ...     65           1      False\n",
              "\n",
              "[5 rows x 11 columns]"
            ]
          },
          "metadata": {
            "tags": []
          },
          "execution_count": 112
        }
      ]
    },
    {
      "cell_type": "code",
      "metadata": {
        "id": "2UaoCaUYVljp",
        "colab_type": "code",
        "outputId": "bdcb2d32-7cab-43c5-a0d6-f53b383a8808",
        "colab": {
          "base_uri": "https://localhost:8080/",
          "height": 134
        }
      },
      "source": [
        "#Check the type of each column it will be Series datatype\n",
        "type(pokemon_data['Name'])\n",
        "\n",
        "#Can apply head function to indivdual function\n",
        "pokemon_data['Name'].head(5)"
      ],
      "execution_count": 12,
      "outputs": [
        {
          "output_type": "execute_result",
          "data": {
            "text/plain": [
              "#\n",
              "1                Bulbasaur\n",
              "2                  Ivysaur\n",
              "3                 Venusaur\n",
              "3    VenusaurMega Venusaur\n",
              "4               Charmander\n",
              "Name: Name, dtype: object"
            ]
          },
          "metadata": {
            "tags": []
          },
          "execution_count": 12
        }
      ]
    },
    {
      "cell_type": "code",
      "metadata": {
        "id": "vp3vG-HqbMlI",
        "colab_type": "code",
        "colab": {
          "base_uri": "https://localhost:8080/",
          "height": 195
        },
        "outputId": "760c6c1e-24c8-4c3f-e945-8915c854fccc"
      },
      "source": [
        "#Resettig the index\n",
        "pokemon_data.reset_index(drop=True,inplace=True)\n",
        "pokemon_data.head(5)"
      ],
      "execution_count": 13,
      "outputs": [
        {
          "output_type": "execute_result",
          "data": {
            "text/html": [
              "<div>\n",
              "<style scoped>\n",
              "    .dataframe tbody tr th:only-of-type {\n",
              "        vertical-align: middle;\n",
              "    }\n",
              "\n",
              "    .dataframe tbody tr th {\n",
              "        vertical-align: top;\n",
              "    }\n",
              "\n",
              "    .dataframe thead th {\n",
              "        text-align: right;\n",
              "    }\n",
              "</style>\n",
              "<table border=\"1\" class=\"dataframe\">\n",
              "  <thead>\n",
              "    <tr style=\"text-align: right;\">\n",
              "      <th></th>\n",
              "      <th>Name</th>\n",
              "      <th>Type 1</th>\n",
              "      <th>Type 2</th>\n",
              "      <th>HP</th>\n",
              "      <th>Attack</th>\n",
              "      <th>Defense</th>\n",
              "      <th>Sp. Atk</th>\n",
              "      <th>Sp. Def</th>\n",
              "      <th>Speed</th>\n",
              "      <th>Generation</th>\n",
              "      <th>Legendary</th>\n",
              "    </tr>\n",
              "  </thead>\n",
              "  <tbody>\n",
              "    <tr>\n",
              "      <th>0</th>\n",
              "      <td>Bulbasaur</td>\n",
              "      <td>Grass</td>\n",
              "      <td>Poison</td>\n",
              "      <td>45</td>\n",
              "      <td>49</td>\n",
              "      <td>49</td>\n",
              "      <td>65</td>\n",
              "      <td>65</td>\n",
              "      <td>45</td>\n",
              "      <td>1</td>\n",
              "      <td>False</td>\n",
              "    </tr>\n",
              "    <tr>\n",
              "      <th>1</th>\n",
              "      <td>Ivysaur</td>\n",
              "      <td>Grass</td>\n",
              "      <td>Poison</td>\n",
              "      <td>60</td>\n",
              "      <td>62</td>\n",
              "      <td>63</td>\n",
              "      <td>80</td>\n",
              "      <td>80</td>\n",
              "      <td>60</td>\n",
              "      <td>1</td>\n",
              "      <td>False</td>\n",
              "    </tr>\n",
              "    <tr>\n",
              "      <th>2</th>\n",
              "      <td>Venusaur</td>\n",
              "      <td>Grass</td>\n",
              "      <td>Poison</td>\n",
              "      <td>80</td>\n",
              "      <td>82</td>\n",
              "      <td>83</td>\n",
              "      <td>100</td>\n",
              "      <td>100</td>\n",
              "      <td>80</td>\n",
              "      <td>1</td>\n",
              "      <td>False</td>\n",
              "    </tr>\n",
              "    <tr>\n",
              "      <th>3</th>\n",
              "      <td>VenusaurMega Venusaur</td>\n",
              "      <td>Grass</td>\n",
              "      <td>Poison</td>\n",
              "      <td>80</td>\n",
              "      <td>100</td>\n",
              "      <td>123</td>\n",
              "      <td>122</td>\n",
              "      <td>120</td>\n",
              "      <td>80</td>\n",
              "      <td>1</td>\n",
              "      <td>False</td>\n",
              "    </tr>\n",
              "    <tr>\n",
              "      <th>4</th>\n",
              "      <td>Charmander</td>\n",
              "      <td>Fire</td>\n",
              "      <td>NaN</td>\n",
              "      <td>39</td>\n",
              "      <td>52</td>\n",
              "      <td>43</td>\n",
              "      <td>60</td>\n",
              "      <td>50</td>\n",
              "      <td>65</td>\n",
              "      <td>1</td>\n",
              "      <td>False</td>\n",
              "    </tr>\n",
              "  </tbody>\n",
              "</table>\n",
              "</div>"
            ],
            "text/plain": [
              "                    Name Type 1  Type 2  ...  Speed  Generation  Legendary\n",
              "0              Bulbasaur  Grass  Poison  ...     45           1      False\n",
              "1                Ivysaur  Grass  Poison  ...     60           1      False\n",
              "2               Venusaur  Grass  Poison  ...     80           1      False\n",
              "3  VenusaurMega Venusaur  Grass  Poison  ...     80           1      False\n",
              "4             Charmander   Fire     NaN  ...     65           1      False\n",
              "\n",
              "[5 rows x 11 columns]"
            ]
          },
          "metadata": {
            "tags": []
          },
          "execution_count": 13
        }
      ]
    },
    {
      "cell_type": "markdown",
      "metadata": {
        "id": "citGT6J4cEIq",
        "colab_type": "text"
      },
      "source": [
        "# Basic Data Retrieval\n"
      ]
    },
    {
      "cell_type": "code",
      "metadata": {
        "id": "-qGhE6xFXhW3",
        "colab_type": "code",
        "outputId": "a35db7bd-2a12-4037-d94e-de5550b2d7ce",
        "colab": {
          "base_uri": "https://localhost:8080/",
          "height": 67
        }
      },
      "source": [
        "#Getting Column names\n",
        "pokemon_data.columns"
      ],
      "execution_count": 0,
      "outputs": [
        {
          "output_type": "execute_result",
          "data": {
            "text/plain": [
              "Index(['Name', 'Type 1', 'Type 2', 'HP', 'Attack', 'Defense', 'Sp. Atk',\n",
              "       'Sp. Def', 'Speed', 'Generation', 'Legendary'],\n",
              "      dtype='object')"
            ]
          },
          "metadata": {
            "tags": []
          },
          "execution_count": 24
        }
      ]
    },
    {
      "cell_type": "code",
      "metadata": {
        "id": "zgdHJD_oYIHs",
        "colab_type": "code",
        "outputId": "6862e9b3-4261-435e-d2cd-bf7fe5659e5d",
        "colab": {
          "base_uri": "https://localhost:8080/",
          "height": 195
        }
      },
      "source": [
        "pokemon_data.iloc[0:5]"
      ],
      "execution_count": 14,
      "outputs": [
        {
          "output_type": "execute_result",
          "data": {
            "text/html": [
              "<div>\n",
              "<style scoped>\n",
              "    .dataframe tbody tr th:only-of-type {\n",
              "        vertical-align: middle;\n",
              "    }\n",
              "\n",
              "    .dataframe tbody tr th {\n",
              "        vertical-align: top;\n",
              "    }\n",
              "\n",
              "    .dataframe thead th {\n",
              "        text-align: right;\n",
              "    }\n",
              "</style>\n",
              "<table border=\"1\" class=\"dataframe\">\n",
              "  <thead>\n",
              "    <tr style=\"text-align: right;\">\n",
              "      <th></th>\n",
              "      <th>Name</th>\n",
              "      <th>Type 1</th>\n",
              "      <th>Type 2</th>\n",
              "      <th>HP</th>\n",
              "      <th>Attack</th>\n",
              "      <th>Defense</th>\n",
              "      <th>Sp. Atk</th>\n",
              "      <th>Sp. Def</th>\n",
              "      <th>Speed</th>\n",
              "      <th>Generation</th>\n",
              "      <th>Legendary</th>\n",
              "    </tr>\n",
              "  </thead>\n",
              "  <tbody>\n",
              "    <tr>\n",
              "      <th>0</th>\n",
              "      <td>Bulbasaur</td>\n",
              "      <td>Grass</td>\n",
              "      <td>Poison</td>\n",
              "      <td>45</td>\n",
              "      <td>49</td>\n",
              "      <td>49</td>\n",
              "      <td>65</td>\n",
              "      <td>65</td>\n",
              "      <td>45</td>\n",
              "      <td>1</td>\n",
              "      <td>False</td>\n",
              "    </tr>\n",
              "    <tr>\n",
              "      <th>1</th>\n",
              "      <td>Ivysaur</td>\n",
              "      <td>Grass</td>\n",
              "      <td>Poison</td>\n",
              "      <td>60</td>\n",
              "      <td>62</td>\n",
              "      <td>63</td>\n",
              "      <td>80</td>\n",
              "      <td>80</td>\n",
              "      <td>60</td>\n",
              "      <td>1</td>\n",
              "      <td>False</td>\n",
              "    </tr>\n",
              "    <tr>\n",
              "      <th>2</th>\n",
              "      <td>Venusaur</td>\n",
              "      <td>Grass</td>\n",
              "      <td>Poison</td>\n",
              "      <td>80</td>\n",
              "      <td>82</td>\n",
              "      <td>83</td>\n",
              "      <td>100</td>\n",
              "      <td>100</td>\n",
              "      <td>80</td>\n",
              "      <td>1</td>\n",
              "      <td>False</td>\n",
              "    </tr>\n",
              "    <tr>\n",
              "      <th>3</th>\n",
              "      <td>VenusaurMega Venusaur</td>\n",
              "      <td>Grass</td>\n",
              "      <td>Poison</td>\n",
              "      <td>80</td>\n",
              "      <td>100</td>\n",
              "      <td>123</td>\n",
              "      <td>122</td>\n",
              "      <td>120</td>\n",
              "      <td>80</td>\n",
              "      <td>1</td>\n",
              "      <td>False</td>\n",
              "    </tr>\n",
              "    <tr>\n",
              "      <th>4</th>\n",
              "      <td>Charmander</td>\n",
              "      <td>Fire</td>\n",
              "      <td>NaN</td>\n",
              "      <td>39</td>\n",
              "      <td>52</td>\n",
              "      <td>43</td>\n",
              "      <td>60</td>\n",
              "      <td>50</td>\n",
              "      <td>65</td>\n",
              "      <td>1</td>\n",
              "      <td>False</td>\n",
              "    </tr>\n",
              "  </tbody>\n",
              "</table>\n",
              "</div>"
            ],
            "text/plain": [
              "                    Name Type 1  Type 2  ...  Speed  Generation  Legendary\n",
              "0              Bulbasaur  Grass  Poison  ...     45           1      False\n",
              "1                Ivysaur  Grass  Poison  ...     60           1      False\n",
              "2               Venusaur  Grass  Poison  ...     80           1      False\n",
              "3  VenusaurMega Venusaur  Grass  Poison  ...     80           1      False\n",
              "4             Charmander   Fire     NaN  ...     65           1      False\n",
              "\n",
              "[5 rows x 11 columns]"
            ]
          },
          "metadata": {
            "tags": []
          },
          "execution_count": 14
        }
      ]
    },
    {
      "cell_type": "code",
      "metadata": {
        "id": "pw1_2KBxbbJT",
        "colab_type": "code",
        "colab": {}
      },
      "source": [
        "#Getting Column names\n",
        "pokemon_data.columns\n",
        "\n",
        "#Accessing rows and columns part wise\n",
        "pokemon_data.iloc[1]\n",
        "pokemon_data.iloc[0:10]\n",
        "pokemon_data.iloc[0:10,1:4]\n",
        "pokemon_data.iloc[:,1:4]\n",
        "\n",
        "#Accessing particular column the same way as done \n",
        "pokemon_data['Type 1'].iloc[0:5]\n",
        "\n",
        "#Accessing the entire row\n",
        "pokemon_data.loc[1:10,['Name','Type 1','Type 2']]\n",
        "pokemon_data.loc[1]"
      ],
      "execution_count": 0,
      "outputs": []
    },
    {
      "cell_type": "code",
      "metadata": {
        "id": "z50rRHuONOkl",
        "colab_type": "code",
        "colab": {}
      },
      "source": [
        "pokemon_data.loc[pokemon_data['Type 1'] == 'Grass',['Name']]\n",
        "pokemon_data.iloc[(pokemon_data['Type 1'] == 'Grass').values,[0]]"
      ],
      "execution_count": 0,
      "outputs": []
    },
    {
      "cell_type": "markdown",
      "metadata": {
        "id": "ITfQbEtdb6PA",
        "colab_type": "text"
      },
      "source": [
        "# Knowing the Data Better"
      ]
    },
    {
      "cell_type": "code",
      "metadata": {
        "id": "V_SrLURBblB3",
        "colab_type": "code",
        "outputId": "d6a0dcab-2b75-4635-c075-efc54e61ec7e",
        "colab": {
          "base_uri": "https://localhost:8080/",
          "height": 319
        }
      },
      "source": [
        "#Check the data type of entire dataframe\n",
        "#Consist information about entire dataframe with use of info function\n",
        "\n",
        "pokemon_data.info()"
      ],
      "execution_count": 123,
      "outputs": [
        {
          "output_type": "stream",
          "text": [
            "<class 'pandas.core.frame.DataFrame'>\n",
            "Int64Index: 800 entries, 1 to 721\n",
            "Data columns (total 11 columns):\n",
            " #   Column      Non-Null Count  Dtype \n",
            "---  ------      --------------  ----- \n",
            " 0   Name        800 non-null    object\n",
            " 1   Type 1      800 non-null    object\n",
            " 2   Type 2      414 non-null    object\n",
            " 3   HP          800 non-null    int64 \n",
            " 4   Attack      800 non-null    int64 \n",
            " 5   Defense     800 non-null    int64 \n",
            " 6   Sp. Atk     800 non-null    int64 \n",
            " 7   Sp. Def     800 non-null    int64 \n",
            " 8   Speed       800 non-null    int64 \n",
            " 9   Generation  800 non-null    int64 \n",
            " 10  Legendary   800 non-null    bool  \n",
            "dtypes: bool(1), int64(7), object(3)\n",
            "memory usage: 69.5+ KB\n"
          ],
          "name": "stdout"
        }
      ]
    },
    {
      "cell_type": "code",
      "metadata": {
        "id": "x1KOzLbHcAab",
        "colab_type": "code",
        "outputId": "d63468a0-82f1-4a4b-f7be-873a5725f295",
        "colab": {
          "base_uri": "https://localhost:8080/",
          "height": 284
        }
      },
      "source": [
        "#Note the numeric values will only be calculated and not object or string dtype\n",
        "#describe function will compute basic statistics as shown below as for each column\n",
        "\n",
        "pokemon_data.describe()"
      ],
      "execution_count": 15,
      "outputs": [
        {
          "output_type": "execute_result",
          "data": {
            "text/html": [
              "<div>\n",
              "<style scoped>\n",
              "    .dataframe tbody tr th:only-of-type {\n",
              "        vertical-align: middle;\n",
              "    }\n",
              "\n",
              "    .dataframe tbody tr th {\n",
              "        vertical-align: top;\n",
              "    }\n",
              "\n",
              "    .dataframe thead th {\n",
              "        text-align: right;\n",
              "    }\n",
              "</style>\n",
              "<table border=\"1\" class=\"dataframe\">\n",
              "  <thead>\n",
              "    <tr style=\"text-align: right;\">\n",
              "      <th></th>\n",
              "      <th>HP</th>\n",
              "      <th>Attack</th>\n",
              "      <th>Defense</th>\n",
              "      <th>Sp. Atk</th>\n",
              "      <th>Sp. Def</th>\n",
              "      <th>Speed</th>\n",
              "      <th>Generation</th>\n",
              "    </tr>\n",
              "  </thead>\n",
              "  <tbody>\n",
              "    <tr>\n",
              "      <th>count</th>\n",
              "      <td>800.000000</td>\n",
              "      <td>800.000000</td>\n",
              "      <td>800.000000</td>\n",
              "      <td>800.000000</td>\n",
              "      <td>800.000000</td>\n",
              "      <td>800.000000</td>\n",
              "      <td>800.00000</td>\n",
              "    </tr>\n",
              "    <tr>\n",
              "      <th>mean</th>\n",
              "      <td>69.258750</td>\n",
              "      <td>79.001250</td>\n",
              "      <td>73.842500</td>\n",
              "      <td>72.820000</td>\n",
              "      <td>71.902500</td>\n",
              "      <td>68.277500</td>\n",
              "      <td>3.32375</td>\n",
              "    </tr>\n",
              "    <tr>\n",
              "      <th>std</th>\n",
              "      <td>25.534669</td>\n",
              "      <td>32.457366</td>\n",
              "      <td>31.183501</td>\n",
              "      <td>32.722294</td>\n",
              "      <td>27.828916</td>\n",
              "      <td>29.060474</td>\n",
              "      <td>1.66129</td>\n",
              "    </tr>\n",
              "    <tr>\n",
              "      <th>min</th>\n",
              "      <td>1.000000</td>\n",
              "      <td>5.000000</td>\n",
              "      <td>5.000000</td>\n",
              "      <td>10.000000</td>\n",
              "      <td>20.000000</td>\n",
              "      <td>5.000000</td>\n",
              "      <td>1.00000</td>\n",
              "    </tr>\n",
              "    <tr>\n",
              "      <th>25%</th>\n",
              "      <td>50.000000</td>\n",
              "      <td>55.000000</td>\n",
              "      <td>50.000000</td>\n",
              "      <td>49.750000</td>\n",
              "      <td>50.000000</td>\n",
              "      <td>45.000000</td>\n",
              "      <td>2.00000</td>\n",
              "    </tr>\n",
              "    <tr>\n",
              "      <th>50%</th>\n",
              "      <td>65.000000</td>\n",
              "      <td>75.000000</td>\n",
              "      <td>70.000000</td>\n",
              "      <td>65.000000</td>\n",
              "      <td>70.000000</td>\n",
              "      <td>65.000000</td>\n",
              "      <td>3.00000</td>\n",
              "    </tr>\n",
              "    <tr>\n",
              "      <th>75%</th>\n",
              "      <td>80.000000</td>\n",
              "      <td>100.000000</td>\n",
              "      <td>90.000000</td>\n",
              "      <td>95.000000</td>\n",
              "      <td>90.000000</td>\n",
              "      <td>90.000000</td>\n",
              "      <td>5.00000</td>\n",
              "    </tr>\n",
              "    <tr>\n",
              "      <th>max</th>\n",
              "      <td>255.000000</td>\n",
              "      <td>190.000000</td>\n",
              "      <td>230.000000</td>\n",
              "      <td>194.000000</td>\n",
              "      <td>230.000000</td>\n",
              "      <td>180.000000</td>\n",
              "      <td>6.00000</td>\n",
              "    </tr>\n",
              "  </tbody>\n",
              "</table>\n",
              "</div>"
            ],
            "text/plain": [
              "               HP      Attack     Defense  ...     Sp. Def       Speed  Generation\n",
              "count  800.000000  800.000000  800.000000  ...  800.000000  800.000000   800.00000\n",
              "mean    69.258750   79.001250   73.842500  ...   71.902500   68.277500     3.32375\n",
              "std     25.534669   32.457366   31.183501  ...   27.828916   29.060474     1.66129\n",
              "min      1.000000    5.000000    5.000000  ...   20.000000    5.000000     1.00000\n",
              "25%     50.000000   55.000000   50.000000  ...   50.000000   45.000000     2.00000\n",
              "50%     65.000000   75.000000   70.000000  ...   70.000000   65.000000     3.00000\n",
              "75%     80.000000  100.000000   90.000000  ...   90.000000   90.000000     5.00000\n",
              "max    255.000000  190.000000  230.000000  ...  230.000000  180.000000     6.00000\n",
              "\n",
              "[8 rows x 7 columns]"
            ]
          },
          "metadata": {
            "tags": []
          },
          "execution_count": 15
        }
      ]
    },
    {
      "cell_type": "markdown",
      "metadata": {
        "id": "9dIdPClEcLHy",
        "colab_type": "text"
      },
      "source": [
        "# Data Cleanup"
      ]
    },
    {
      "cell_type": "code",
      "metadata": {
        "id": "l5rOmRGJcPuk",
        "colab_type": "code",
        "outputId": "2fea24fb-04bc-462a-b0ae-d2b46dafcf77",
        "colab": {
          "base_uri": "https://localhost:8080/",
          "height": 470
        }
      },
      "source": [
        "#Count the NaN values in the dataframe\n",
        "\n",
        "\n",
        "print(pokemon_data.isnull())\n",
        "\n",
        "\n",
        "print(pokemon_data.isnull().sum(axis=0))\n"
      ],
      "execution_count": 124,
      "outputs": [
        {
          "output_type": "stream",
          "text": [
            "      Name  Type 1  Type 2     HP  ...  Sp. Def  Speed  Generation  Legendary\n",
            "#                                  ...                                       \n",
            "1    False   False   False  False  ...    False  False       False      False\n",
            "2    False   False   False  False  ...    False  False       False      False\n",
            "3    False   False   False  False  ...    False  False       False      False\n",
            "3    False   False   False  False  ...    False  False       False      False\n",
            "4    False   False    True  False  ...    False  False       False      False\n",
            "..     ...     ...     ...    ...  ...      ...    ...         ...        ...\n",
            "719  False   False   False  False  ...    False  False       False      False\n",
            "719  False   False   False  False  ...    False  False       False      False\n",
            "720  False   False   False  False  ...    False  False       False      False\n",
            "720  False   False   False  False  ...    False  False       False      False\n",
            "721  False   False   False  False  ...    False  False       False      False\n",
            "\n",
            "[800 rows x 11 columns]\n",
            "Name            0\n",
            "Type 1          0\n",
            "Type 2        386\n",
            "HP              0\n",
            "Attack          0\n",
            "Defense         0\n",
            "Sp. Atk         0\n",
            "Sp. Def         0\n",
            "Speed           0\n",
            "Generation      0\n",
            "Legendary       0\n",
            "dtype: int64\n"
          ],
          "name": "stdout"
        }
      ]
    },
    {
      "cell_type": "code",
      "metadata": {
        "id": "xJJNtA3Qd74e",
        "colab_type": "code",
        "outputId": "42fe8366-ce21-4d86-8649-c77c671dc140",
        "colab": {
          "base_uri": "https://localhost:8080/",
          "height": 373
        }
      },
      "source": [
        "#Dropping NaN with dropna\n",
        "\n",
        "#axis = 0 drops row \n",
        "pokemon_data.dropna(axis=0,inplace=False)\n",
        "\n",
        "#Masking and use of loc\n",
        "#Converting to string datatype with astype\n",
        "\n",
        "pokemon_data['Type 2'] = pokemon_data['Type 2'].astype(str)\n",
        "mask = (pokemon_data['Type 2'] != 'nan')\n",
        "pk_data = pokemon_data.loc[mask]\n",
        "pk_data.head(5)\n",
        "\n",
        "#Masking concept apply to multiple condition\n",
        "masking = (pk_data['Type 1'] == 'Grass') & (pk_data['Type 2'] == 'Steel') | (pk_data['Speed'] > 10) \n",
        "\n",
        "#so the condition is (Grass) and (Steel) or (Speed > 10)\n",
        "#So if either all of them are True or Speed > 10 is True or Grass and Steel is True, only those condtioned rows are retained and nothing else\n",
        "#Can verify for yourself.\n",
        "\n",
        "#Another way of not using loc and still mask \n",
        "pk_data[masking].head(10)"
      ],
      "execution_count": 134,
      "outputs": [
        {
          "output_type": "execute_result",
          "data": {
            "text/html": [
              "<div>\n",
              "<style scoped>\n",
              "    .dataframe tbody tr th:only-of-type {\n",
              "        vertical-align: middle;\n",
              "    }\n",
              "\n",
              "    .dataframe tbody tr th {\n",
              "        vertical-align: top;\n",
              "    }\n",
              "\n",
              "    .dataframe thead th {\n",
              "        text-align: right;\n",
              "    }\n",
              "</style>\n",
              "<table border=\"1\" class=\"dataframe\">\n",
              "  <thead>\n",
              "    <tr style=\"text-align: right;\">\n",
              "      <th></th>\n",
              "      <th>Name</th>\n",
              "      <th>Type 1</th>\n",
              "      <th>Type 2</th>\n",
              "      <th>HP</th>\n",
              "      <th>Attack</th>\n",
              "      <th>Defense</th>\n",
              "      <th>Sp. Atk</th>\n",
              "      <th>Sp. Def</th>\n",
              "      <th>Speed</th>\n",
              "      <th>Generation</th>\n",
              "      <th>Legendary</th>\n",
              "    </tr>\n",
              "    <tr>\n",
              "      <th>#</th>\n",
              "      <th></th>\n",
              "      <th></th>\n",
              "      <th></th>\n",
              "      <th></th>\n",
              "      <th></th>\n",
              "      <th></th>\n",
              "      <th></th>\n",
              "      <th></th>\n",
              "      <th></th>\n",
              "      <th></th>\n",
              "      <th></th>\n",
              "    </tr>\n",
              "  </thead>\n",
              "  <tbody>\n",
              "    <tr>\n",
              "      <th>1</th>\n",
              "      <td>Bulbasaur</td>\n",
              "      <td>Grass</td>\n",
              "      <td>Poison</td>\n",
              "      <td>45</td>\n",
              "      <td>49</td>\n",
              "      <td>49</td>\n",
              "      <td>65</td>\n",
              "      <td>65</td>\n",
              "      <td>45</td>\n",
              "      <td>1</td>\n",
              "      <td>False</td>\n",
              "    </tr>\n",
              "    <tr>\n",
              "      <th>2</th>\n",
              "      <td>Ivysaur</td>\n",
              "      <td>Grass</td>\n",
              "      <td>Poison</td>\n",
              "      <td>60</td>\n",
              "      <td>62</td>\n",
              "      <td>63</td>\n",
              "      <td>80</td>\n",
              "      <td>80</td>\n",
              "      <td>60</td>\n",
              "      <td>1</td>\n",
              "      <td>False</td>\n",
              "    </tr>\n",
              "    <tr>\n",
              "      <th>3</th>\n",
              "      <td>Venusaur</td>\n",
              "      <td>Grass</td>\n",
              "      <td>Poison</td>\n",
              "      <td>80</td>\n",
              "      <td>82</td>\n",
              "      <td>83</td>\n",
              "      <td>100</td>\n",
              "      <td>100</td>\n",
              "      <td>80</td>\n",
              "      <td>1</td>\n",
              "      <td>False</td>\n",
              "    </tr>\n",
              "    <tr>\n",
              "      <th>3</th>\n",
              "      <td>VenusaurMega Venusaur</td>\n",
              "      <td>Grass</td>\n",
              "      <td>Poison</td>\n",
              "      <td>80</td>\n",
              "      <td>100</td>\n",
              "      <td>123</td>\n",
              "      <td>122</td>\n",
              "      <td>120</td>\n",
              "      <td>80</td>\n",
              "      <td>1</td>\n",
              "      <td>False</td>\n",
              "    </tr>\n",
              "    <tr>\n",
              "      <th>6</th>\n",
              "      <td>Charizard</td>\n",
              "      <td>Fire</td>\n",
              "      <td>Flying</td>\n",
              "      <td>78</td>\n",
              "      <td>84</td>\n",
              "      <td>78</td>\n",
              "      <td>109</td>\n",
              "      <td>85</td>\n",
              "      <td>100</td>\n",
              "      <td>1</td>\n",
              "      <td>False</td>\n",
              "    </tr>\n",
              "    <tr>\n",
              "      <th>6</th>\n",
              "      <td>CharizardMega Charizard X</td>\n",
              "      <td>Fire</td>\n",
              "      <td>Dragon</td>\n",
              "      <td>78</td>\n",
              "      <td>130</td>\n",
              "      <td>111</td>\n",
              "      <td>130</td>\n",
              "      <td>85</td>\n",
              "      <td>100</td>\n",
              "      <td>1</td>\n",
              "      <td>False</td>\n",
              "    </tr>\n",
              "    <tr>\n",
              "      <th>6</th>\n",
              "      <td>CharizardMega Charizard Y</td>\n",
              "      <td>Fire</td>\n",
              "      <td>Flying</td>\n",
              "      <td>78</td>\n",
              "      <td>104</td>\n",
              "      <td>78</td>\n",
              "      <td>159</td>\n",
              "      <td>115</td>\n",
              "      <td>100</td>\n",
              "      <td>1</td>\n",
              "      <td>False</td>\n",
              "    </tr>\n",
              "    <tr>\n",
              "      <th>12</th>\n",
              "      <td>Butterfree</td>\n",
              "      <td>Bug</td>\n",
              "      <td>Flying</td>\n",
              "      <td>60</td>\n",
              "      <td>45</td>\n",
              "      <td>50</td>\n",
              "      <td>90</td>\n",
              "      <td>80</td>\n",
              "      <td>70</td>\n",
              "      <td>1</td>\n",
              "      <td>False</td>\n",
              "    </tr>\n",
              "    <tr>\n",
              "      <th>13</th>\n",
              "      <td>Weedle</td>\n",
              "      <td>Bug</td>\n",
              "      <td>Poison</td>\n",
              "      <td>40</td>\n",
              "      <td>35</td>\n",
              "      <td>30</td>\n",
              "      <td>20</td>\n",
              "      <td>20</td>\n",
              "      <td>50</td>\n",
              "      <td>1</td>\n",
              "      <td>False</td>\n",
              "    </tr>\n",
              "    <tr>\n",
              "      <th>14</th>\n",
              "      <td>Kakuna</td>\n",
              "      <td>Bug</td>\n",
              "      <td>Poison</td>\n",
              "      <td>45</td>\n",
              "      <td>25</td>\n",
              "      <td>50</td>\n",
              "      <td>25</td>\n",
              "      <td>25</td>\n",
              "      <td>35</td>\n",
              "      <td>1</td>\n",
              "      <td>False</td>\n",
              "    </tr>\n",
              "  </tbody>\n",
              "</table>\n",
              "</div>"
            ],
            "text/plain": [
              "                         Name Type 1  Type 2  ...  Speed  Generation  Legendary\n",
              "#                                             ...                              \n",
              "1                   Bulbasaur  Grass  Poison  ...     45           1      False\n",
              "2                     Ivysaur  Grass  Poison  ...     60           1      False\n",
              "3                    Venusaur  Grass  Poison  ...     80           1      False\n",
              "3       VenusaurMega Venusaur  Grass  Poison  ...     80           1      False\n",
              "6                   Charizard   Fire  Flying  ...    100           1      False\n",
              "6   CharizardMega Charizard X   Fire  Dragon  ...    100           1      False\n",
              "6   CharizardMega Charizard Y   Fire  Flying  ...    100           1      False\n",
              "12                 Butterfree    Bug  Flying  ...     70           1      False\n",
              "13                     Weedle    Bug  Poison  ...     50           1      False\n",
              "14                     Kakuna    Bug  Poison  ...     35           1      False\n",
              "\n",
              "[10 rows x 11 columns]"
            ]
          },
          "metadata": {
            "tags": []
          },
          "execution_count": 134
        }
      ]
    },
    {
      "cell_type": "markdown",
      "metadata": {
        "id": "6kGLkmc9rhgZ",
        "colab_type": "text"
      },
      "source": [
        "#Statistics"
      ]
    },
    {
      "cell_type": "code",
      "metadata": {
        "id": "pIqcVnu6hxVc",
        "colab_type": "code",
        "colab": {}
      },
      "source": [
        "\n",
        "pokemon_data['HP'].mean()\n",
        "pokemon_data['HP'].max()\n",
        "pokemon_data['HP'].min()\n",
        "pokemon_data['HP'].std()\n",
        "pokemon_data['HP'].sum()"
      ],
      "execution_count": 0,
      "outputs": []
    },
    {
      "cell_type": "code",
      "metadata": {
        "id": "nV24xPoehcfJ",
        "colab_type": "code",
        "outputId": "d73136f1-9992-4c3d-a90c-d84a4dbdec9b",
        "colab": {
          "base_uri": "https://localhost:8080/",
          "height": 34
        }
      },
      "source": [
        "#Getting unique values for column 'Type 1'with help of unique function\n",
        "#The return type is ndarray which consist of n rows an d columns \n",
        "#(18,) - Represents 18 rows and 1 column \n",
        "\n",
        "pokemon_data['Type 1'].unique()\n",
        "type(pokemon_data['Type 1'].unique())\n",
        "pokemon_data['Type 1'].unique().shape"
      ],
      "execution_count": 23,
      "outputs": [
        {
          "output_type": "execute_result",
          "data": {
            "text/plain": [
              "(18,)"
            ]
          },
          "metadata": {
            "tags": []
          },
          "execution_count": 23
        }
      ]
    },
    {
      "cell_type": "code",
      "metadata": {
        "id": "ExNvBblxiDvz",
        "colab_type": "code",
        "outputId": "570ad132-f4d3-4ee3-a658-3b5c93cee6bc",
        "colab": {
          "base_uri": "https://localhost:8080/",
          "height": 195
        }
      },
      "source": [
        "#To calculate each category occuring number of times in the column we use function called value_counts\n",
        "#Return type is series object with index as category and another column as their respective counts\n",
        "\n",
        "pokemon_data['Type 2'].value_counts().head(10)\n",
        "\n",
        "#Reset index\n",
        "pokemon_data['Type 2'].value_counts().reset_index()\n",
        "\n",
        "#Rename column\n",
        "pokemon_data['Type 2'].value_counts().reset_index().rename(columns={'index':'Type 2','Type 2':'Counts'}).head(5)\n"
      ],
      "execution_count": 29,
      "outputs": [
        {
          "output_type": "execute_result",
          "data": {
            "text/html": [
              "<div>\n",
              "<style scoped>\n",
              "    .dataframe tbody tr th:only-of-type {\n",
              "        vertical-align: middle;\n",
              "    }\n",
              "\n",
              "    .dataframe tbody tr th {\n",
              "        vertical-align: top;\n",
              "    }\n",
              "\n",
              "    .dataframe thead th {\n",
              "        text-align: right;\n",
              "    }\n",
              "</style>\n",
              "<table border=\"1\" class=\"dataframe\">\n",
              "  <thead>\n",
              "    <tr style=\"text-align: right;\">\n",
              "      <th></th>\n",
              "      <th>Type 2</th>\n",
              "      <th>Counts</th>\n",
              "    </tr>\n",
              "  </thead>\n",
              "  <tbody>\n",
              "    <tr>\n",
              "      <th>0</th>\n",
              "      <td>Flying</td>\n",
              "      <td>97</td>\n",
              "    </tr>\n",
              "    <tr>\n",
              "      <th>1</th>\n",
              "      <td>Ground</td>\n",
              "      <td>35</td>\n",
              "    </tr>\n",
              "    <tr>\n",
              "      <th>2</th>\n",
              "      <td>Poison</td>\n",
              "      <td>34</td>\n",
              "    </tr>\n",
              "    <tr>\n",
              "      <th>3</th>\n",
              "      <td>Psychic</td>\n",
              "      <td>33</td>\n",
              "    </tr>\n",
              "    <tr>\n",
              "      <th>4</th>\n",
              "      <td>Fighting</td>\n",
              "      <td>26</td>\n",
              "    </tr>\n",
              "  </tbody>\n",
              "</table>\n",
              "</div>"
            ],
            "text/plain": [
              "     Type 2  Counts\n",
              "0    Flying      97\n",
              "1    Ground      35\n",
              "2    Poison      34\n",
              "3   Psychic      33\n",
              "4  Fighting      26"
            ]
          },
          "metadata": {
            "tags": []
          },
          "execution_count": 29
        }
      ]
    },
    {
      "cell_type": "markdown",
      "metadata": {
        "id": "zoULf64rjNoi",
        "colab_type": "text"
      },
      "source": [
        "# Feature Engineering\n",
        "We use existing data to generate new data to add to the dataframe for more analysis.\n",
        "This is called as Feature Engineering"
      ]
    },
    {
      "cell_type": "code",
      "metadata": {
        "id": "ytnx_hFji83k",
        "colab_type": "code",
        "outputId": "1f5d5d22-c59a-4bd9-a0ba-4b3ab190cf01",
        "colab": {
          "base_uri": "https://localhost:8080/",
          "height": 195
        }
      },
      "source": [
        "import warnings\n",
        "warnings.filterwarnings('ignore')\n",
        "\n",
        "\n",
        "#axis = 1 - Denotes the walkthrough will be column wise\n",
        "#axis = 0 - Denotes the walkthrough will be row wise\n",
        "\n",
        "#In this case, we are doing it column wise, addition of score from index 3 till 9, 9 is not included and sum it up to store in Total_Attack\n",
        "pokemon_data['Total_Attack'] = pokemon_data.iloc[:,3:9].sum(axis=1)\n",
        "pokemon_data.head(5)"
      ],
      "execution_count": 30,
      "outputs": [
        {
          "output_type": "execute_result",
          "data": {
            "text/html": [
              "<div>\n",
              "<style scoped>\n",
              "    .dataframe tbody tr th:only-of-type {\n",
              "        vertical-align: middle;\n",
              "    }\n",
              "\n",
              "    .dataframe tbody tr th {\n",
              "        vertical-align: top;\n",
              "    }\n",
              "\n",
              "    .dataframe thead th {\n",
              "        text-align: right;\n",
              "    }\n",
              "</style>\n",
              "<table border=\"1\" class=\"dataframe\">\n",
              "  <thead>\n",
              "    <tr style=\"text-align: right;\">\n",
              "      <th></th>\n",
              "      <th>Name</th>\n",
              "      <th>Type 1</th>\n",
              "      <th>Type 2</th>\n",
              "      <th>HP</th>\n",
              "      <th>Attack</th>\n",
              "      <th>Defense</th>\n",
              "      <th>Sp. Atk</th>\n",
              "      <th>Sp. Def</th>\n",
              "      <th>Speed</th>\n",
              "      <th>Generation</th>\n",
              "      <th>Legendary</th>\n",
              "      <th>Total_Attack</th>\n",
              "    </tr>\n",
              "  </thead>\n",
              "  <tbody>\n",
              "    <tr>\n",
              "      <th>0</th>\n",
              "      <td>Bulbasaur</td>\n",
              "      <td>Grass</td>\n",
              "      <td>Poison</td>\n",
              "      <td>45</td>\n",
              "      <td>49</td>\n",
              "      <td>49</td>\n",
              "      <td>65</td>\n",
              "      <td>65</td>\n",
              "      <td>45</td>\n",
              "      <td>1</td>\n",
              "      <td>False</td>\n",
              "      <td>318</td>\n",
              "    </tr>\n",
              "    <tr>\n",
              "      <th>1</th>\n",
              "      <td>Ivysaur</td>\n",
              "      <td>Grass</td>\n",
              "      <td>Poison</td>\n",
              "      <td>60</td>\n",
              "      <td>62</td>\n",
              "      <td>63</td>\n",
              "      <td>80</td>\n",
              "      <td>80</td>\n",
              "      <td>60</td>\n",
              "      <td>1</td>\n",
              "      <td>False</td>\n",
              "      <td>405</td>\n",
              "    </tr>\n",
              "    <tr>\n",
              "      <th>2</th>\n",
              "      <td>Venusaur</td>\n",
              "      <td>Grass</td>\n",
              "      <td>Poison</td>\n",
              "      <td>80</td>\n",
              "      <td>82</td>\n",
              "      <td>83</td>\n",
              "      <td>100</td>\n",
              "      <td>100</td>\n",
              "      <td>80</td>\n",
              "      <td>1</td>\n",
              "      <td>False</td>\n",
              "      <td>525</td>\n",
              "    </tr>\n",
              "    <tr>\n",
              "      <th>3</th>\n",
              "      <td>VenusaurMega Venusaur</td>\n",
              "      <td>Grass</td>\n",
              "      <td>Poison</td>\n",
              "      <td>80</td>\n",
              "      <td>100</td>\n",
              "      <td>123</td>\n",
              "      <td>122</td>\n",
              "      <td>120</td>\n",
              "      <td>80</td>\n",
              "      <td>1</td>\n",
              "      <td>False</td>\n",
              "      <td>625</td>\n",
              "    </tr>\n",
              "    <tr>\n",
              "      <th>4</th>\n",
              "      <td>Charmander</td>\n",
              "      <td>Fire</td>\n",
              "      <td>NaN</td>\n",
              "      <td>39</td>\n",
              "      <td>52</td>\n",
              "      <td>43</td>\n",
              "      <td>60</td>\n",
              "      <td>50</td>\n",
              "      <td>65</td>\n",
              "      <td>1</td>\n",
              "      <td>False</td>\n",
              "      <td>309</td>\n",
              "    </tr>\n",
              "  </tbody>\n",
              "</table>\n",
              "</div>"
            ],
            "text/plain": [
              "                    Name Type 1  Type 2  ...  Generation  Legendary  Total_Attack\n",
              "0              Bulbasaur  Grass  Poison  ...           1      False           318\n",
              "1                Ivysaur  Grass  Poison  ...           1      False           405\n",
              "2               Venusaur  Grass  Poison  ...           1      False           525\n",
              "3  VenusaurMega Venusaur  Grass  Poison  ...           1      False           625\n",
              "4             Charmander   Fire     NaN  ...           1      False           309\n",
              "\n",
              "[5 rows x 12 columns]"
            ]
          },
          "metadata": {
            "tags": []
          },
          "execution_count": 30
        }
      ]
    },
    {
      "cell_type": "markdown",
      "metadata": {
        "id": "UewRg7QYjwSM",
        "colab_type": "text"
      },
      "source": [
        "Sorting"
      ]
    },
    {
      "cell_type": "markdown",
      "metadata": {
        "id": "tgvn4z9Rk8cw",
        "colab_type": "text"
      },
      "source": [
        "# Interesting Facts"
      ]
    },
    {
      "cell_type": "code",
      "metadata": {
        "id": "vxIZfqgFjVwE",
        "colab_type": "code",
        "colab": {}
      },
      "source": [
        "#Use of copy\n",
        "\n",
        "#copy function will copy entire data to another variable and if we make some changes in pokemon_data, those changes will be not reflected in another assigned variable\n",
        "\n",
        "diff_df = pokemon_data.copy()\n",
        "\n",
        "#Try out some manipuation and check results for both dataframes\n",
        "same_df = pokemon_data\n"
      ],
      "execution_count": 0,
      "outputs": []
    },
    {
      "cell_type": "markdown",
      "metadata": {
        "id": "GoF_dQrWRKw5",
        "colab_type": "text"
      },
      "source": [
        "#Use of Sort\n",
        "Sorting in programming refers rearranging numeric values in increasing or decreasing order.\n",
        "So sort_values function does it for us<br>\n",
        "sort takes in 2 major parameter<br>\n",
        "sort by which columns<br>\n",
        "What should be the order of that sorting<br>\n",
        "\n",
        "For e.g [4,2,5,6,1,2] -> [1,2,2,4,5,6] ascending =True<br>\n",
        "[4,2,5,6,1,2] -> [6,5,4,2,2,1] ascending = False"
      ]
    },
    {
      "cell_type": "code",
      "metadata": {
        "id": "2N16KgMOj6tL",
        "colab_type": "code",
        "outputId": "028f0be3-0111-4a91-ca2b-c3b98c27bd8b",
        "colab": {
          "base_uri": "https://localhost:8080/",
          "height": 195
        }
      },
      "source": [
        "\n",
        "#Can assign one column or in more than one column pass it as list\n",
        "#ascending denotes against each column write the order of execution to sort on\n",
        "#Return type is dataframe object\n",
        "\n",
        "diff_df.sort_values(by=['HP','Attack','Defense','Speed'],ascending = [False,True,False,True],inplace=True)\n",
        "diff_df.head(5)"
      ],
      "execution_count": 38,
      "outputs": [
        {
          "output_type": "execute_result",
          "data": {
            "text/html": [
              "<div>\n",
              "<style scoped>\n",
              "    .dataframe tbody tr th:only-of-type {\n",
              "        vertical-align: middle;\n",
              "    }\n",
              "\n",
              "    .dataframe tbody tr th {\n",
              "        vertical-align: top;\n",
              "    }\n",
              "\n",
              "    .dataframe thead th {\n",
              "        text-align: right;\n",
              "    }\n",
              "</style>\n",
              "<table border=\"1\" class=\"dataframe\">\n",
              "  <thead>\n",
              "    <tr style=\"text-align: right;\">\n",
              "      <th></th>\n",
              "      <th>Name</th>\n",
              "      <th>Type 1</th>\n",
              "      <th>Type 2</th>\n",
              "      <th>HP</th>\n",
              "      <th>Attack</th>\n",
              "      <th>Defense</th>\n",
              "      <th>Sp. Atk</th>\n",
              "      <th>Sp. Def</th>\n",
              "      <th>Speed</th>\n",
              "      <th>Generation</th>\n",
              "      <th>Legendary</th>\n",
              "      <th>Total_Attack</th>\n",
              "    </tr>\n",
              "  </thead>\n",
              "  <tbody>\n",
              "    <tr>\n",
              "      <th>261</th>\n",
              "      <td>Blissey</td>\n",
              "      <td>Normal</td>\n",
              "      <td>NaN</td>\n",
              "      <td>255</td>\n",
              "      <td>10</td>\n",
              "      <td>10</td>\n",
              "      <td>75</td>\n",
              "      <td>135</td>\n",
              "      <td>55</td>\n",
              "      <td>2</td>\n",
              "      <td>False</td>\n",
              "      <td>540</td>\n",
              "    </tr>\n",
              "    <tr>\n",
              "      <th>121</th>\n",
              "      <td>Chansey</td>\n",
              "      <td>Normal</td>\n",
              "      <td>NaN</td>\n",
              "      <td>250</td>\n",
              "      <td>5</td>\n",
              "      <td>5</td>\n",
              "      <td>35</td>\n",
              "      <td>105</td>\n",
              "      <td>50</td>\n",
              "      <td>1</td>\n",
              "      <td>False</td>\n",
              "      <td>450</td>\n",
              "    </tr>\n",
              "    <tr>\n",
              "      <th>217</th>\n",
              "      <td>Wobbuffet</td>\n",
              "      <td>Psychic</td>\n",
              "      <td>NaN</td>\n",
              "      <td>190</td>\n",
              "      <td>33</td>\n",
              "      <td>58</td>\n",
              "      <td>33</td>\n",
              "      <td>58</td>\n",
              "      <td>33</td>\n",
              "      <td>2</td>\n",
              "      <td>False</td>\n",
              "      <td>405</td>\n",
              "    </tr>\n",
              "    <tr>\n",
              "      <th>351</th>\n",
              "      <td>Wailord</td>\n",
              "      <td>Water</td>\n",
              "      <td>NaN</td>\n",
              "      <td>170</td>\n",
              "      <td>90</td>\n",
              "      <td>45</td>\n",
              "      <td>90</td>\n",
              "      <td>45</td>\n",
              "      <td>60</td>\n",
              "      <td>3</td>\n",
              "      <td>False</td>\n",
              "      <td>500</td>\n",
              "    </tr>\n",
              "    <tr>\n",
              "      <th>655</th>\n",
              "      <td>Alomomola</td>\n",
              "      <td>Water</td>\n",
              "      <td>NaN</td>\n",
              "      <td>165</td>\n",
              "      <td>75</td>\n",
              "      <td>80</td>\n",
              "      <td>40</td>\n",
              "      <td>45</td>\n",
              "      <td>65</td>\n",
              "      <td>5</td>\n",
              "      <td>False</td>\n",
              "      <td>470</td>\n",
              "    </tr>\n",
              "  </tbody>\n",
              "</table>\n",
              "</div>"
            ],
            "text/plain": [
              "          Name   Type 1 Type 2   HP  ...  Speed  Generation  Legendary  Total_Attack\n",
              "261    Blissey   Normal    NaN  255  ...     55           2      False           540\n",
              "121    Chansey   Normal    NaN  250  ...     50           1      False           450\n",
              "217  Wobbuffet  Psychic    NaN  190  ...     33           2      False           405\n",
              "351    Wailord    Water    NaN  170  ...     60           3      False           500\n",
              "655  Alomomola    Water    NaN  165  ...     65           5      False           470\n",
              "\n",
              "[5 rows x 12 columns]"
            ]
          },
          "metadata": {
            "tags": []
          },
          "execution_count": 38
        }
      ]
    },
    {
      "cell_type": "code",
      "metadata": {
        "id": "KFwNWp5EwD4p",
        "colab_type": "code",
        "colab": {}
      },
      "source": [
        "#Groupby\n",
        "#It allows to group the same named data values inside each column you passed to group it\n",
        "#Again, you can pass multiple columns to perform group by as a list\n",
        "#The order to execution for group by is starting from indexed 0 till end of the list passed\n",
        "#Usually group by is used to perform some aggregate analysis on how one column depend on other column\n",
        "\n",
        "#Assume Basic DataFrame with two columns we wish to group by\n",
        "#Basic dataframe \n",
        "Type2 Type1\n",
        "a     a1\n",
        "b     a2\n",
        "a     a3\n",
        "d     a1\n",
        "a     a1\n",
        "a     a2\n",
        "\n",
        "#Group by Type 2 then Type 1\n",
        "Type2   Type1\n",
        "a       a1\n",
        "a       a1\n",
        "a       a2\n",
        "a       a3\n",
        "b       a2\n",
        "d       a1\n",
        "\n",
        "#Applying aggregate function say mean\n",
        "\n",
        "Type2   Type1\n",
        "a       a1    Mean of a1 are calculated for type2 as a\n",
        "        a2    Mean of a1 are calculated\n",
        "        a3    Mean of a2 are calculated\n",
        "b       a2    Mean of a2 are calculated for type2 as b\n",
        "d       a1    Mean of a1 are calculated for type2 as d"
      ],
      "execution_count": 0,
      "outputs": []
    },
    {
      "cell_type": "code",
      "metadata": {
        "id": "__vX5JYhoytU",
        "colab_type": "code",
        "outputId": "3f67e162-f7f5-4d5e-b003-7b23d1be6ba0",
        "colab": {
          "base_uri": "https://localhost:8080/",
          "height": 225
        }
      },
      "source": [
        "#Normal Group by\n",
        "pokemon_data.groupby(['Type 2','Type 1']).head(5)\n",
        "\n",
        "#Group by with Aggregate Function\n",
        "pokemon_data.groupby(['Type 2','Type 1']).mean().head(5)"
      ],
      "execution_count": 39,
      "outputs": [
        {
          "output_type": "execute_result",
          "data": {
            "text/html": [
              "<div>\n",
              "<style scoped>\n",
              "    .dataframe tbody tr th:only-of-type {\n",
              "        vertical-align: middle;\n",
              "    }\n",
              "\n",
              "    .dataframe tbody tr th {\n",
              "        vertical-align: top;\n",
              "    }\n",
              "\n",
              "    .dataframe thead th {\n",
              "        text-align: right;\n",
              "    }\n",
              "</style>\n",
              "<table border=\"1\" class=\"dataframe\">\n",
              "  <thead>\n",
              "    <tr style=\"text-align: right;\">\n",
              "      <th></th>\n",
              "      <th></th>\n",
              "      <th>HP</th>\n",
              "      <th>Attack</th>\n",
              "      <th>Defense</th>\n",
              "      <th>Sp. Atk</th>\n",
              "      <th>Sp. Def</th>\n",
              "      <th>Speed</th>\n",
              "      <th>Generation</th>\n",
              "      <th>Legendary</th>\n",
              "      <th>Total_Attack</th>\n",
              "    </tr>\n",
              "    <tr>\n",
              "      <th>Type 2</th>\n",
              "      <th>Type 1</th>\n",
              "      <th></th>\n",
              "      <th></th>\n",
              "      <th></th>\n",
              "      <th></th>\n",
              "      <th></th>\n",
              "      <th></th>\n",
              "      <th></th>\n",
              "      <th></th>\n",
              "      <th></th>\n",
              "    </tr>\n",
              "  </thead>\n",
              "  <tbody>\n",
              "    <tr>\n",
              "      <th rowspan=\"2\" valign=\"top\">Bug</th>\n",
              "      <th>Poison</th>\n",
              "      <td>40.000000</td>\n",
              "      <td>50.0</td>\n",
              "      <td>90.000000</td>\n",
              "      <td>30.000000</td>\n",
              "      <td>55.000000</td>\n",
              "      <td>65.0</td>\n",
              "      <td>4.0</td>\n",
              "      <td>0.0</td>\n",
              "      <td>330.000000</td>\n",
              "    </tr>\n",
              "    <tr>\n",
              "      <th>Rock</th>\n",
              "      <td>60.000000</td>\n",
              "      <td>110.0</td>\n",
              "      <td>75.000000</td>\n",
              "      <td>55.000000</td>\n",
              "      <td>65.000000</td>\n",
              "      <td>60.0</td>\n",
              "      <td>3.0</td>\n",
              "      <td>0.0</td>\n",
              "      <td>425.000000</td>\n",
              "    </tr>\n",
              "    <tr>\n",
              "      <th rowspan=\"3\" valign=\"top\">Dark</th>\n",
              "      <th>Fighting</th>\n",
              "      <td>95.000000</td>\n",
              "      <td>124.0</td>\n",
              "      <td>78.000000</td>\n",
              "      <td>69.000000</td>\n",
              "      <td>71.000000</td>\n",
              "      <td>58.0</td>\n",
              "      <td>6.0</td>\n",
              "      <td>0.0</td>\n",
              "      <td>495.000000</td>\n",
              "    </tr>\n",
              "    <tr>\n",
              "      <th>Ghost</th>\n",
              "      <td>50.000000</td>\n",
              "      <td>92.0</td>\n",
              "      <td>108.000000</td>\n",
              "      <td>92.000000</td>\n",
              "      <td>108.000000</td>\n",
              "      <td>35.0</td>\n",
              "      <td>4.0</td>\n",
              "      <td>0.0</td>\n",
              "      <td>485.000000</td>\n",
              "    </tr>\n",
              "    <tr>\n",
              "      <th>Grass</th>\n",
              "      <td>76.666667</td>\n",
              "      <td>95.0</td>\n",
              "      <td>53.333333</td>\n",
              "      <td>88.333333</td>\n",
              "      <td>53.333333</td>\n",
              "      <td>65.0</td>\n",
              "      <td>3.0</td>\n",
              "      <td>0.0</td>\n",
              "      <td>431.666667</td>\n",
              "    </tr>\n",
              "  </tbody>\n",
              "</table>\n",
              "</div>"
            ],
            "text/plain": [
              "                        HP  Attack  ...  Legendary  Total_Attack\n",
              "Type 2 Type 1                       ...                         \n",
              "Bug    Poison    40.000000    50.0  ...        0.0    330.000000\n",
              "       Rock      60.000000   110.0  ...        0.0    425.000000\n",
              "Dark   Fighting  95.000000   124.0  ...        0.0    495.000000\n",
              "       Ghost     50.000000    92.0  ...        0.0    485.000000\n",
              "       Grass     76.666667    95.0  ...        0.0    431.666667\n",
              "\n",
              "[5 rows x 9 columns]"
            ]
          },
          "metadata": {
            "tags": []
          },
          "execution_count": 39
        }
      ]
    },
    {
      "cell_type": "markdown",
      "metadata": {
        "id": "ewrNdHhMlLsm",
        "colab_type": "text"
      },
      "source": [
        "#Small Problem for practice\n",
        "Say you are the data scientist and your are being told \n",
        "Get me for each type 2, strongest pokemon you want to get into battle field"
      ]
    },
    {
      "cell_type": "code",
      "metadata": {
        "id": "4G22ce3RlJYI",
        "colab_type": "code",
        "colab": {}
      },
      "source": [
        "def strongestPokemon():\n",
        "  strongPokemon_df = pd.DataFrame()\n",
        "  each_type_df = []\n",
        "  \n",
        "  for type2 in pk_data['Type 2'].unique():\n",
        "      sub_type = pk_data[pk_data['Type 2'] == type2]\n",
        "      sub_type.sort_values(by=['HP','Attack','Defense','Speed'],ascending=[False,False,False,False],inplace=True)\n",
        "      sub_type.reset_index(drop=True,inplace=True)\n",
        "      top_pokemon = sub_type.loc[1]\n",
        "      each_type_df.append(top_pokemon)\n",
        "\n",
        "  strongPokemon_df = pd.DataFrame(each_type_df,columns=pk_data.columns)\n",
        "\n",
        "  return strongPokemon_df\n",
        "\n",
        "pk_strongest = strongestPokemon()"
      ],
      "execution_count": 0,
      "outputs": []
    }
  ]
}